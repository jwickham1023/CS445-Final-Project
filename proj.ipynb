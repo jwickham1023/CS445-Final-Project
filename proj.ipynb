{
 "cells": [
  {
   "cell_type": "markdown",
   "id": "d75d5b45",
   "metadata": {},
   "source": [
    "## 1. Introduction & Problem Framing"
   ]
  },
  {
   "cell_type": "markdown",
   "id": "324060d7",
   "metadata": {},
   "source": [
    "### **What Is the Problem Being Solved?**\n",
    "\n",
    "In the real world, perfect data is never guaranteed. Images could be blurry, noisy, off-center, or distorted in ways that models are unprepared for. We wanted to explore how a lightweight model handles the messy reality of the real world. To accomplish this, we started with the MNIST dataset as a controlled baseline for digit recognition. From that baseline, we introduced MNIST-C—a corrupted version of MNIST—plus a bonus set that introduced a combined total of thirty synthetic distortions. The model was never exposed to any of these during initial training, which gave us a clean benchmark for assessing generalization.\n",
    "From there, we implemented a curriculum-based training pipeline, where the model gradually learned to handle increasing levels of corruption. This provided a structured way of improving generalization without overfitting any single corruption type. To test its ability to generalize across domains, we finally evaluated the trained model on EMNIST, a dataset with digits written in different handwriting styles.\n",
    "This project is ultimately about building models that can handle imperfection, perform well under ideal conditions, and still hold up when the data gets messy.\n"
   ]
  },
  {
   "cell_type": "markdown",
   "id": "18cefeab",
   "metadata": {},
   "source": [
    "## 2. Setup and Imports"
   ]
  },
  {
   "cell_type": "code",
   "execution_count": 1,
   "id": "d5e5b242",
   "metadata": {},
   "outputs": [],
   "source": [
    "# PYTORCH + TRAINING\n",
    "import torch\n",
    "import torch.nn as nn\n",
    "import torch.nn.functional as F\n",
    "from torch.optim.lr_scheduler import ReduceLROnPlateau\n",
    "from torch.utils.data import Dataset, DataLoader, ConcatDataset, Subset\n",
    "\n",
    "# IMAGE PROCESSING + AUGMENTATION\n",
    "import torchvision\n",
    "from torchvision import transforms\n",
    "from torchvision.datasets import EMNIST\n",
    "import torchvision.transforms.functional as TF\n",
    "import io  # For JPEG compression\n",
    "\n",
    "# DATA HANDLING + ARRAYS\n",
    "import numpy as np\n",
    "import pandas as pd\n",
    "from PIL import Image, ImageFilter, ImageEnhance, ImageOps\n",
    "from scipy.ndimage import gaussian_filter, map_coordinates\n",
    "import cv2\n",
    "\n",
    "# FILE IO \n",
    "from pathlib import Path\n",
    "import random\n",
    "from collections import defaultdict\n",
    "\n",
    "# EVALUATION\n",
    "from sklearn.metrics import accuracy_score, classification_report, confusion_matrix\n",
    "\n",
    "# VISULIZATION AND Plotting\n",
    "import seaborn as sns\n",
    "import matplotlib.pyplot as plt\n"
   ]
  },
  {
   "cell_type": "markdown",
   "id": "b2258c55",
   "metadata": {},
   "source": [
    "## 3. Dataset Preparation"
   ]
  },
  {
   "cell_type": "markdown",
   "id": "89b333c0",
   "metadata": {},
   "source": [
    "### 3.1 Load and Wrap Clean MNIST Dataset"
   ]
  },
  {
   "cell_type": "markdown",
   "id": "ea33cd9f",
   "metadata": {},
   "source": [
    "#### **Preprocessing and Dataset Handling**\n",
    "\n",
    "We got this dataset from https://www.kaggle.com/datasets/sivasankaru/mnist-npy-file-dataset\n",
    "\n",
    "Before training or evaluation, we applied a consistent set of preprocessing steps:\n",
    "\n",
    "- All MNIST images were normalized and resized to 28×28 grayscale.  \n",
    "- Data was loaded from `.npy` arrays and served as our clean, uncorrupted baseline.  \n",
    "- Labels were left unchanged and matched directly to their digit class (0–9).  \n",
    "\n",
    "\n"
   ]
  },
  {
   "cell_type": "code",
   "execution_count": 2,
   "id": "a5823c44",
   "metadata": {},
   "outputs": [],
   "source": [
    "class MNISTDataset(Dataset):\n",
    "    def __init__(self, img_path, label_path, to_rgb=False, resize_to=None):\n",
    "        self.images = np.load(img_path).astype(np.float32) / 255.0  # Fully loaded into RAM\n",
    "        self.labels = np.load(label_path)\n",
    "        self.to_rgb = to_rgb\n",
    "        self.resize_to = resize_to\n",
    "\n",
    "    def __len__(self):\n",
    "        return len(self.images)\n",
    "\n",
    "    def __getitem__(self, idx):\n",
    "        img = self.images[idx]  \n",
    "        label = self.labels[idx]\n",
    "\n",
    "        if img.ndim == 3 and img.shape[-1] == 1:\n",
    "            img = img.squeeze(-1)\n",
    "\n",
    "        img_pil = TF.to_pil_image(img)\n",
    "\n",
    "        if self.to_rgb:\n",
    "            img_pil = img_pil.convert(\"RGB\")\n",
    "\n",
    "        if self.resize_to:\n",
    "            img_pil = TF.resize(img_pil, self.resize_to)\n",
    "\n",
    "        img_tensor = TF.to_tensor(img_pil)\n",
    "        return img_tensor, int(label.item()) if isinstance(label, np.ndarray) else int(label)"
   ]
  },
  {
   "cell_type": "code",
   "execution_count": 3,
   "id": "eb64b30d",
   "metadata": {},
   "outputs": [],
   "source": [
    "MNIST_ROOT = \"data/mnist\"\n",
    "\n",
    "# Load trainin and test for clean MNIST\n",
    "train_mnist = MNISTDataset(\n",
    "    \"data/mnist/train_images.npy\",\n",
    "    \"data/mnist/train_labels.npy\",\n",
    "    to_rgb=False\n",
    ")\n",
    "\n",
    "test_mnist = MNISTDataset(\n",
    "    \"data/mnist/test_images.npy\",\n",
    "    \"data/mnist/test_labels.npy\",\n",
    "    to_rgb=False\n",
    ")"
   ]
  },
  {
   "cell_type": "markdown",
   "id": "a7c26e6a",
   "metadata": {},
   "source": [
    "### 3.2 Visualize Clean MNIST Samples"
   ]
  },
  {
   "cell_type": "code",
   "execution_count": 4,
   "id": "88d0faed",
   "metadata": {},
   "outputs": [],
   "source": [
    "def get_mnist_examples_by_digit(dataset, digits=range(10)):\n",
    "    seen = set()\n",
    "    samples = []\n",
    "\n",
    "    for x, y in dataset:\n",
    "        if int(y) in digits and int(y) not in seen:\n",
    "            seen.add(int(y))\n",
    "            img = TF.to_pil_image(x)\n",
    "            samples.append((img, y))\n",
    "        if len(seen) == len(digits):\n",
    "            break\n",
    "\n",
    "    return samples"
   ]
  },
  {
   "cell_type": "code",
   "execution_count": 5,
   "id": "9b99c412",
   "metadata": {},
   "outputs": [
    {
     "data": {
      "image/png": "[encoded data removed]",
      "text/plain": [
       "<Figure size 1500x200 with 10 Axes>"
      ]
     },
     "metadata": {},
     "output_type": "display_data"
    }
   ],
   "source": [
    "digit_samples = get_mnist_examples_by_digit(train_mnist)\n",
    "\n",
    "plt.figure(figsize=(15, 2))\n",
    "for i, (img, label) in enumerate(digit_samples):\n",
    "    plt.subplot(1, 10, i + 1)\n",
    "    plt.imshow(img, cmap=\"gray\")\n",
    "    plt.title(f\"{label}\")\n",
    "    plt.axis(\"off\")\n",
    "\n",
    "plt.suptitle(\"MNIST Digits: One Example per Class (0–9)\", fontsize=16)\n",
    "plt.tight_layout()\n",
    "plt.show()"
   ]
  },
  {
   "cell_type": "markdown",
   "id": "bb63c6ce",
   "metadata": {},
   "source": [
    "## 4. Baseline Model and Training"
   ]
  },
  {
   "cell_type": "markdown",
   "id": "b7e556eb",
   "metadata": {},
   "source": [
    "### 4.1 Define Baseline CNN"
   ]
  },
  {
   "cell_type": "code",
   "execution_count": 6,
   "id": "e79945dd",
   "metadata": {},
   "outputs": [],
   "source": [
    "class SimpleCNN(nn.Module):\n",
    "    def __init__(self, in_channels=1, num_classes=10):\n",
    "        super(SimpleCNN, self).__init__()\n",
    "\n",
    "        self.conv1 = nn.Sequential(\n",
    "            nn.Conv2d(in_channels, 32, kernel_size=3, padding=1),\n",
    "            nn.ReLU(inplace=True),\n",
    "            nn.BatchNorm2d(32),\n",
    "            nn.MaxPool2d(kernel_size=2),\n",
    "            nn.Dropout2d(0.1)\n",
    "        )\n",
    "\n",
    "        self.conv2 = nn.Sequential(\n",
    "            nn.Conv2d(32, 64, kernel_size=3, padding=1),\n",
    "            nn.ReLU(inplace=True),\n",
    "            nn.BatchNorm2d(64),\n",
    "            nn.MaxPool2d(kernel_size=2),\n",
    "            nn.Dropout2d(0.2)\n",
    "        )\n",
    "\n",
    "        self.conv3 = nn.Sequential(\n",
    "            nn.Conv2d(64, 128, kernel_size=3, padding=1),\n",
    "            nn.ReLU(inplace=True),\n",
    "            nn.BatchNorm2d(128),\n",
    "            nn.Dropout2d(0.3)\n",
    "        )\n",
    "\n",
    "        self.fc1 = nn.Sequential(\n",
    "            nn.Linear(128 * 7 * 7, 128),\n",
    "            nn.ReLU(inplace=True),\n",
    "            nn.BatchNorm1d(128),\n",
    "            nn.Dropout(0.4)\n",
    "        )\n",
    "\n",
    "        self.fc2 = nn.Linear(128, num_classes)\n",
    "\n",
    "    def forward(self, x):\n",
    "        x = self.conv1(x)\n",
    "        x = self.conv2(x)\n",
    "        x = self.conv3(x)\n",
    "        x = x.view(x.size(0), -1)  # flatten\n",
    "        x = self.fc1(x)\n",
    "        return self.fc2(x)"
   ]
  },
  {
   "cell_type": "markdown",
   "id": "111cc88c",
   "metadata": {},
   "source": [
    "### 4.2 Training Utilities"
   ]
  },
  {
   "cell_type": "code",
   "execution_count": 7,
   "id": "072928bb",
   "metadata": {},
   "outputs": [],
   "source": [
    "# Choses Cuda if Avail \n",
    "device = torch.device(\"cuda\" if torch.cuda.is_available() else \"cpu\")"
   ]
  },
  {
   "cell_type": "code",
   "execution_count": 8,
   "id": "743784fb",
   "metadata": {},
   "outputs": [],
   "source": [
    "# Standard Training Loop \n",
    "\n",
    "# Runs a standard epoch based training, returns DF with train/ test accuracy per epoch\n",
    "# Can Optionaly do per digit accuracy report on final epoch, confustion matric cisualtations, compatability with corruption eval  \n",
    "\n",
    "def train_loop(\n",
    "    model,\n",
    "    train_loader,\n",
    "    test_loader,\n",
    "    optimizer,\n",
    "    device,\n",
    "    num_epochs=5,\n",
    "    show_confusion=False,\n",
    "    per_digit=False,\n",
    "    corruption_dict=None\n",
    "):\n",
    "    history = []\n",
    "\n",
    "    for epoch in range(1, num_epochs + 1):\n",
    "        train_loss, train_acc = train_model(model, train_loader, optimizer, device)\n",
    "\n",
    "        model.eval()\n",
    "        all_preds, all_labels = [], []\n",
    "\n",
    "        with torch.no_grad():\n",
    "            for images, labels in test_loader:\n",
    "                images = images.to(device)\n",
    "                outputs = model(images)\n",
    "                preds = outputs.argmax(dim=1).cpu()\n",
    "                all_preds.extend(preds.tolist())\n",
    "                all_labels.extend(labels.tolist())\n",
    "\n",
    "        test_acc = accuracy_score(all_labels, all_preds)\n",
    "\n",
    "        print(f\"Epoch {epoch:02d} | Train Loss: {train_loss:.4f} | Train Acc: {train_acc:.4f} | Test Acc: {test_acc:.4f}\")\n",
    "\n",
    "        history.append({\n",
    "            \"epoch\": epoch,\n",
    "            \"train_loss\": train_loss,\n",
    "            \"train_acc\": train_acc,\n",
    "            \"test_acc\": test_acc\n",
    "        })\n",
    "\n",
    "        if epoch == num_epochs:\n",
    "            if per_digit:\n",
    "                print(\"\\nPer-Digit Accuracy Report:\")\n",
    "                print(classification_report(all_labels, all_preds, digits=4))\n",
    "            if show_confusion:\n",
    "                cm = confusion_matrix(all_labels, all_preds)\n",
    "                plt.figure(figsize=(8, 6))\n",
    "                plt.imshow(cm, cmap=plt.cm.Blues, interpolation='nearest')\n",
    "                plt.title(\"Confusion Matrix\")\n",
    "                plt.colorbar()\n",
    "                plt.xlabel(\"Predicted Label\")\n",
    "                plt.ylabel(\"True Label\")\n",
    "                plt.show()\n",
    "\n",
    "    return pd.DataFrame(history)"
   ]
  },
  {
   "cell_type": "code",
   "execution_count": 9,
   "id": "841c4cfd",
   "metadata": {},
   "outputs": [],
   "source": [
    "# Trains Model on a Dataloader and returns average loss and accuracy ( single epoch )\n",
    "\n",
    "def train_model(model, train_loader, optimizer, device):\n",
    "    model.train()\n",
    "    total_loss = 0.0\n",
    "    correct = 0\n",
    "    total = 0\n",
    "\n",
    "    for images, labels in train_loader:\n",
    "        images, labels = images.to(device), labels.to(device)\n",
    "\n",
    "        optimizer.zero_grad()\n",
    "        outputs = model(images)\n",
    "        loss = F.cross_entropy(outputs, labels)\n",
    "        loss.backward()\n",
    "        optimizer.step()\n",
    "\n",
    "        total_loss += loss.item() * labels.size(0)\n",
    "        preds = outputs.argmax(dim=1)\n",
    "        correct += (preds == labels).sum().item()\n",
    "        total += labels.size(0)\n",
    "\n",
    "    avg_loss = total_loss / total\n",
    "    accuracy = correct / total\n",
    "    return avg_loss, accuracy\n",
    "\n",
    "# Evaluates model on test loader and ttrturns a Data frames \n",
    "# Shows per class breakdown and confusion matric\n",
    "def evaluate_model(model, test_loader, device, show_confusion=False, per_digit=False, verbose=True):\n",
    "    model.eval()\n",
    "    all_preds = []\n",
    "    all_labels = []\n",
    "\n",
    "    with torch.no_grad():\n",
    "        for images, labels in test_loader:\n",
    "            images = images.to(device)\n",
    "            outputs = model(images)\n",
    "            preds = outputs.argmax(dim=1).cpu()\n",
    "            all_preds.extend(preds.tolist())\n",
    "            all_labels.extend(labels.tolist())\n",
    "\n",
    "    acc = float(accuracy_score(all_labels, all_preds))\n",
    "\n",
    "    if verbose:\n",
    "        print(f\"\\nTotal Accuracy: {acc:.4f}\")\n",
    "\n",
    "    if per_digit:\n",
    "        print(\"\\nPer-Digit Accuracy Report:\")\n",
    "        print(classification_report(all_labels, all_preds, digits=4))\n",
    "\n",
    "    if show_confusion:\n",
    "        cm = confusion_matrix(all_labels, all_preds)\n",
    "        plt.figure(figsize=(8, 6))\n",
    "        plt.imshow(cm, interpolation='nearest', cmap=plt.cm.Blues)\n",
    "        plt.title(\"Confusion Matrix\")\n",
    "        plt.colorbar()\n",
    "        plt.xlabel(\"Predicted Label\")\n",
    "        plt.ylabel(\"True Label\")\n",
    "        plt.show()\n",
    "\n",
    "    return pd.DataFrame([{\n",
    "        \"total_accuracy\": acc,\n",
    "        \"num_samples\": int(len(all_labels))\n",
    "    }])\n",
    "\n",
    "#Iterates over corruption datasets and evalues model on each\n",
    "def evaluate_per_corruption(model, corruption_dict, device, batch_size=128):\n",
    "    results = []\n",
    "\n",
    "    for name, dataset in corruption_dict.items():\n",
    "        loader = DataLoader(dataset, batch_size=batch_size)\n",
    "        result_df = evaluate_model(model, loader, device, verbose=False)\n",
    "        acc = float(result_df.loc[0, \"total_accuracy\"])  \n",
    "        num_samples = int(result_df.loc[0, \"num_samples\"])\n",
    "\n",
    "        results.append({\n",
    "            \"corruption\": name,\n",
    "            \"accuracy\": acc,\n",
    "            \"num_samples\": num_samples\n",
    "        })\n",
    "\n",
    "    return pd.DataFrame(results).sort_values(by=\"accuracy\", ascending=True).reset_index(drop=True)"
   ]
  },
  {
   "cell_type": "markdown",
   "id": "9875ebca",
   "metadata": {},
   "source": [
    "### 4.3 Train the Baseline"
   ]
  },
  {
   "cell_type": "markdown",
   "id": "9c6e2085",
   "metadata": {},
   "source": [
    "#### **The Baseline and What It Tells Us**\n",
    "To understand the value of our approach, we began by training a simple CNN on clean MNIST without any corruption, augmentation, or curriculum. The baseline model achieved ~99% accuracy on the clean MNIST test set."
   ]
  },
  {
   "cell_type": "markdown",
   "id": "0205603b",
   "metadata": {},
   "source": [
    "#### **What We Analyzed**\n",
    "\n",
    "- Measured clean accuracy as a ceiling for peformance.  \n",
    "- Confirmed that even small CNNs can achieve near-perfect performance on pristine data.  \n",
    "- Sanity check to validate model architecture and training pipeline.\n"
   ]
  },
  {
   "cell_type": "code",
   "execution_count": 10,
   "id": "efd9723d",
   "metadata": {},
   "outputs": [
    {
     "name": "stdout",
     "output_type": "stream",
     "text": [
      "Epoch 01 | Train Loss: 0.1345 | Train Acc: 0.9638 | Test Acc: 0.9895\n",
      "Epoch 02 | Train Loss: 0.0507 | Train Acc: 0.9845 | Test Acc: 0.9909\n",
      "Epoch 03 | Train Loss: 0.0379 | Train Acc: 0.9883 | Test Acc: 0.9929\n",
      "Epoch 04 | Train Loss: 0.0331 | Train Acc: 0.9900 | Test Acc: 0.9934\n",
      "Epoch 05 | Train Loss: 0.0263 | Train Acc: 0.9919 | Test Acc: 0.9938\n"
     ]
    }
   ],
   "source": [
    "# Sets Model\n",
    "mnist_model = SimpleCNN().to(device)\n",
    "\n",
    "# Wrap Datasets in DataLoaders \n",
    "train_loader = DataLoader(train_mnist, batch_size=128, shuffle=True)\n",
    "test_loader = DataLoader(test_mnist, batch_size=128)\n",
    "\n",
    "# Optimizer\n",
    "optimizer = torch.optim.Adam(mnist_model.parameters(), lr=0.001)\n",
    "\n",
    "# === Train and Evaluate ===\n",
    "minst_inital_df = train_loop(\n",
    "    model=mnist_model,\n",
    "    train_loader=train_loader,\n",
    "    test_loader=test_loader,\n",
    "    optimizer=optimizer,\n",
    "    device=device,\n",
    "    num_epochs=5,\n",
    "    show_confusion=False,\n",
    "    per_digit=False,\n",
    "    corruption_dict=None \n",
    ")"
   ]
  },
  {
   "cell_type": "markdown",
   "id": "25ea34e5",
   "metadata": {},
   "source": [
    "## 5. Visualizing What the Model Sees (Pre-Curriculum)"
   ]
  },
  {
   "cell_type": "markdown",
   "id": "2000e548",
   "metadata": {},
   "source": [
    "### **Bonus: Visualizing What the Model Sees**\n",
    "To better understand what the model learned, we used gradient ascent to generate synthetic images. Starting with a blank gray canvas, we nudged pixels until the model \"believed\" it was looking at a specific digit. Most of the generated digits looked distorted, yet still showed recognizable features per digit. This confirms that the model wasn’t just memorizing data, it's generalizing and understanding patterns that make up a particular digit. While not essential to performance, this gave us valuable insight into how the model \"thinks.\""
   ]
  },
  {
   "cell_type": "code",
   "execution_count": 11,
   "id": "76694261",
   "metadata": {},
   "outputs": [],
   "source": [
    "def generate_digit_visualizations(\n",
    "    model,\n",
    "    device,\n",
    "    steps=200,\n",
    "    lr=0.1,\n",
    "    input_shape=(1, 28, 28),\n",
    "    repeat_channels=False\n",
    "):\n",
    "    model.eval()\n",
    "    images = []\n",
    "\n",
    "    for digit in range(10):\n",
    "        # Start with random noise image\n",
    "        img = torch.full((1, *input_shape), 0.5, requires_grad=True, device=device)\n",
    "\n",
    "        optimizer = torch.optim.Adam([img], lr=lr)\n",
    "\n",
    "        for _ in range(steps):\n",
    "            optimizer.zero_grad()\n",
    "            output = model(img)\n",
    "            loss = -output[0, digit]  # maximize confidence for this class\n",
    "            loss.backward()\n",
    "            optimizer.step()\n",
    "\n",
    "            img.data.clamp_(0, 1)\n",
    "\n",
    "        final_img = img.detach().cpu().squeeze()\n",
    "        if repeat_channels and final_img.ndim == 3 and final_img.shape[0] == 3:\n",
    "            final_img = final_img.permute(1, 2, 0).numpy()  # CHW → HWC\n",
    "        else:\n",
    "            final_img = final_img.numpy()\n",
    "        images.append(final_img)\n",
    "\n",
    "    # Plot\n",
    "    fig, axes = plt.subplots(1, 10, figsize=(15, 2))\n",
    "    for i, ax in enumerate(axes):\n",
    "        ax.axis(\"off\")\n",
    "        ax.set_title(str(i))\n",
    "        ax.imshow(images[i], cmap='gray' if not repeat_channels else None)\n",
    "    plt.tight_layout()\n",
    "    plt.show()\n"
   ]
  },
  {
   "cell_type": "code",
   "execution_count": 12,
   "id": "426c943f",
   "metadata": {},
   "outputs": [
    {
     "data": {
      "image/png": "[encoded data removed]",
      "text/plain": [
       "<Figure size 1500x200 with 10 Axes>"
      ]
     },
     "metadata": {},
     "output_type": "display_data"
    }
   ],
   "source": [
    "generate_digit_visualizations(mnist_model, device, steps=1000)"
   ]
  },
  {
   "cell_type": "markdown",
   "id": "1b780a09",
   "metadata": {},
   "source": [
    "## 6. Corrupted MNIST Evaluation"
   ]
  },
  {
   "cell_type": "markdown",
   "id": "c80bbc6a",
   "metadata": {},
   "source": [
    "### 6.1 Load and Merge MNIST-C"
   ]
  },
  {
   "cell_type": "markdown",
   "id": "2833610a",
   "metadata": {},
   "source": [
    "#### **Preprocessing and Dataset Handling**\n",
    "\n",
    "We got our dataset from https://zenodo.org/records/3239543.\n",
    "\n",
    "Before training or evaluation, we applied a consistent set of preprocessing steps:\n",
    "\n",
    "- Stored as `.npy` arrays containing 30 synthetic distortions, categorized into corruption types.  \n",
    "- A runtime corruption wrapper was implemented to apply selected augmentations during training.  \n",
    "- Corruptions were hand-selected and grouped into difficulty tiers: easy, medium, hard, and challenging.  \n",
    "- Each tier contained distortions like noise, contrast changes, and translation errors.  \n",
    "\n",
    "While more modern approaches (e.g., RGB conversion) could’ve been explored with additional time, our pipeline was efficient and effective for our constraints.\n",
    "\n",
    "\n",
    "\n",
    "\n"
   ]
  },
  {
   "cell_type": "code",
   "execution_count": 13,
   "id": "4e33a6c6",
   "metadata": {},
   "outputs": [],
   "source": [
    "class CorruptedMNISTDataset(torch.utils.data.Dataset):\n",
    "    def __init__(self, base_dataset, corruption_pool, use_rgb=False, resize_to=None):\n",
    "        self.dataset = base_dataset\n",
    "        self.corruptions = corruption_pool\n",
    "        self.use_rgb = use_rgb\n",
    "        self.resize_to = resize_to\n",
    "\n",
    "    def __len__(self):\n",
    "        return len(self.dataset)\n",
    "\n",
    "    def __getitem__(self, idx):\n",
    "        img, label = self.dataset[idx]\n",
    "        img_pil = TF.to_pil_image(img)\n",
    "\n",
    "        corrupted = apply_random_corruption(img_pil, corruption_pool=self.corruptions)\n",
    "        if self.resize_to:\n",
    "            corrupted = corrupted.resize(self.resize_to)\n",
    "\n",
    "        if self.use_rgb:\n",
    "            corrupted = corrupted.convert(\"RGB\")\n",
    "\n",
    "        img_tensor = TF.to_tensor(corrupted)\n",
    "        return img_tensor, label\n"
   ]
  },
  {
   "cell_type": "code",
   "execution_count": 14,
   "id": "3168eb61",
   "metadata": {},
   "outputs": [],
   "source": [
    "# Batch load all aviable corruptions\n",
    "\n",
    "def load_corruption_dict(root_dir, to_rgb=False, resize_to=None):\n",
    "    root_dir = Path(root_dir)\n",
    "    corruption_dict = {}\n",
    "\n",
    "    for image_path in sorted(root_dir.glob(\"*_test_images.npy\")):\n",
    "        corruption = image_path.stem.replace(\"_test_images\", \"\")\n",
    "        label_path = root_dir / f\"{corruption}_test_labels.npy\"\n",
    "\n",
    "        if not label_path.exists():\n",
    "            print(f\"Skipping {corruption}: labels not found.\")\n",
    "            continue\n",
    "\n",
    "        corruption_dict[corruption] = MNISTDataset(\n",
    "            image_path,\n",
    "            label_path,\n",
    "            to_rgb=to_rgb,\n",
    "            resize_to=resize_to\n",
    "        )\n",
    "\n",
    "    if not corruption_dict:\n",
    "        raise ValueError(f\"No corruption datasets found in {root_dir}\")\n",
    "\n",
    "    return corruption_dict"
   ]
  },
  {
   "cell_type": "code",
   "execution_count": 15,
   "id": "a8d768b3",
   "metadata": {},
   "outputs": [],
   "source": [
    "MNIST_C_SPLIT_ROOT = \"data/mnist-c-split\"\n",
    "MNIST_C_LEFTOVER_ROOT = \"data/mnist-c-leftover\"\n",
    "\n",
    "# Loads both the corruptions sets\n",
    "mnist_c_split_dict = load_corruption_dict(\"data/mnist-c-split\", to_rgb=False)\n",
    "mnist_c_leftover_dict = load_corruption_dict(\"data/mnist-c-leftover\", to_rgb=False)\n",
    "\n",
    "# Merge them all together into one dictionary\n",
    "full_corruption_dict = {**mnist_c_split_dict, **mnist_c_leftover_dict}\n",
    "\n",
    "# Combines all test corruption datasets into a signle dataset\n",
    "combined_mnist_c_test = ConcatDataset([\n",
    "    *mnist_c_split_dict.values(),\n",
    "    *mnist_c_leftover_dict.values()\n",
    "])"
   ]
  },
  {
   "cell_type": "markdown",
   "id": "3dfd6782",
   "metadata": {},
   "source": [
    "### 6.2 Visualize MNIST-C Samples"
   ]
  },
  {
   "cell_type": "code",
   "execution_count": 16,
   "id": "3f194a85",
   "metadata": {},
   "outputs": [],
   "source": [
    "def get_mnistc_examples_by_digit(dataset, digits=range(10)):\n",
    "    seen = set()\n",
    "    samples = []\n",
    "    \n",
    "    # Shuffle the dataset\n",
    "    indices = list(range(len(dataset)))\n",
    "    random.shuffle(indices)\n",
    "    dataset = torch.utils.data.Subset(dataset, indices)\n",
    "\n",
    "    for x, y in dataset:\n",
    "        if int(y) in digits and int(y) not in seen:\n",
    "            seen.add(int(y))\n",
    "            img = TF.to_pil_image(x)\n",
    "            samples.append((img, y))\n",
    "        if len(seen) == len(digits):\n",
    "            break\n",
    "\n",
    "    return samples"
   ]
  },
  {
   "cell_type": "code",
   "execution_count": 17,
   "id": "f5b48dc9",
   "metadata": {},
   "outputs": [
    {
     "data": {
      "image/png": "[encoded data removed]",
      "text/plain": [
       "<Figure size 1500x200 with 10 Axes>"
      ]
     },
     "metadata": {},
     "output_type": "display_data"
    }
   ],
   "source": [
    "digit_samples = get_mnistc_examples_by_digit(combined_mnist_c_test)\n",
    "\n",
    "plt.figure(figsize=(15, 2))\n",
    "for i, (img, label) in enumerate(digit_samples):\n",
    "    plt.subplot(1, 10, i + 1)\n",
    "    plt.imshow(img, cmap=\"gray\")\n",
    "    plt.title(f\"{label}\")\n",
    "    plt.axis(\"off\")\n",
    "\n",
    "plt.suptitle(\"MNIST-C Digits: One Example per Class (0–9)\", fontsize=16)\n",
    "plt.tight_layout()\n",
    "plt.show()"
   ]
  },
  {
   "cell_type": "markdown",
   "id": "7063ab5c",
   "metadata": {},
   "source": [
    "### 6.3 Evaluate on Corruptions"
   ]
  },
  {
   "cell_type": "markdown",
   "id": "0b0ba35c",
   "metadata": {},
   "source": [
    "#### **The Baseline and What It Tells Us**\n",
    "\n",
    "- When tested on MNIST-C without any corruption-aware training, the same model dropped to ~78-82% accuracy.  \n",
    "- This revealed a major gap between ideal and real-world performance.  \n",
    "- The model was only trained on  clean data and failed to generalize to distortions it had never seen.  \n",
    "- Validated the need for curriculum training and robustness-focused techniques.\n"
   ]
  },
  {
   "cell_type": "markdown",
   "id": "946901e0",
   "metadata": {},
   "source": [
    "#### **What We Analyzed**\n",
    "- Used pre-training zero-shot tests to identify which corruptions caused the steepest accuracy drop.  \n",
    "- Contrast, fog, and inverse were found to be the most disruptive.  \n",
    "- Tracked accuracy per corruption type during curriculum rollout to evaluate robustness gains.  \n",
    "- Performed confusion matrix analysis to inspect common misclassifications.  \n",
    "- Evaluated the effectiveness of Mixup, label smoothing, and training length on corrupted performance.\n"
   ]
  },
  {
   "cell_type": "code",
   "execution_count": 18,
   "id": "3005d439",
   "metadata": {},
   "outputs": [
    {
     "name": "stdout",
     "output_type": "stream",
     "text": [
      "\n",
      "Total Accuracy: 0.7845\n"
     ]
    }
   ],
   "source": [
    "mnist_c_test_loader = DataLoader(combined_mnist_c_test, batch_size=128)\n",
    "\n",
    "mnist_c_results_df = evaluate_model(\n",
    "    model=mnist_model,\n",
    "    test_loader=mnist_c_test_loader,\n",
    "    device=device,\n",
    "    show_confusion=False,\n",
    "    per_digit=False\n",
    ")"
   ]
  },
  {
   "cell_type": "code",
   "execution_count": 19,
   "id": "98f35224",
   "metadata": {},
   "outputs": [],
   "source": [
    "corruption_results_df = evaluate_per_corruption(mnist_model, full_corruption_dict, device)"
   ]
  },
  {
   "cell_type": "code",
   "execution_count": 20,
   "id": "36291e9f",
   "metadata": {},
   "outputs": [
    {
     "data": {
      "application/vnd.microsoft.datawrangler.viewer.v0+json": {
       "columns": [
        {
         "name": "index",
         "rawType": "int64",
         "type": "integer"
        },
        {
         "name": "corruption",
         "rawType": "object",
         "type": "string"
        },
        {
         "name": "accuracy",
         "rawType": "float64",
         "type": "float"
        }
       ],
       "conversionMethod": "pd.DataFrame",
       "ref": "108ebf24-0170-47ba-a707-467c609f3128",
       "rows": [
        [
         "0",
         "contrast",
         "0.1135"
        ],
        [
         "1",
         "fog",
         "0.1158"
        ],
        [
         "2",
         "inverse",
         "0.2333"
        ],
        [
         "3",
         "defocus_blur",
         "0.3935"
        ],
        [
         "4",
         "gaussian_blur",
         "0.5277"
        ],
        [
         "5",
         "frost",
         "0.6117"
        ],
        [
         "6",
         "gaussian_noise",
         "0.6205"
        ],
        [
         "7",
         "translate",
         "0.6644"
        ],
        [
         "8",
         "canny_edges",
         "0.6845"
        ],
        [
         "9",
         "impulse_noise",
         "0.7049"
        ],
        [
         "10",
         "brightness",
         "0.7698"
        ],
        [
         "11",
         "stripe",
         "0.8395"
        ],
        [
         "12",
         "motion_blur",
         "0.8556"
        ],
        [
         "13",
         "line",
         "0.8759"
        ],
        [
         "14",
         "elastic_transform",
         "0.8847"
        ],
        [
         "15",
         "glass_blur",
         "0.8889"
        ],
        [
         "16",
         "zigzag",
         "0.8905"
        ],
        [
         "17",
         "snow",
         "0.9299"
        ],
        [
         "18",
         "pessimal_noise",
         "0.9343"
        ],
        [
         "19",
         "zoom_blur",
         "0.9347"
        ],
        [
         "20",
         "rotate",
         "0.9358"
        ],
        [
         "21",
         "scale",
         "0.9421"
        ],
        [
         "22",
         "pixelate",
         "0.9491"
        ]
       ],
       "shape": {
        "columns": 2,
        "rows": 23
       }
      },
      "text/html": [
       "<div>\n",
       "<style scoped>\n",
       "    .dataframe tbody tr th:only-of-type {\n",
       "        vertical-align: middle;\n",
       "    }\n",
       "\n",
       "    .dataframe tbody tr th {\n",
       "        vertical-align: top;\n",
       "    }\n",
       "\n",
       "    .dataframe thead th {\n",
       "        text-align: right;\n",
       "    }\n",
       "</style>\n",
       "<table border=\"1\" class=\"dataframe\">\n",
       "  <thead>\n",
       "    <tr style=\"text-align: right;\">\n",
       "      <th></th>\n",
       "      <th>corruption</th>\n",
       "      <th>accuracy</th>\n",
       "    </tr>\n",
       "  </thead>\n",
       "  <tbody>\n",
       "    <tr>\n",
       "      <th>0</th>\n",
       "      <td>contrast</td>\n",
       "      <td>0.1135</td>\n",
       "    </tr>\n",
       "    <tr>\n",
       "      <th>1</th>\n",
       "      <td>fog</td>\n",
       "      <td>0.1158</td>\n",
       "    </tr>\n",
       "    <tr>\n",
       "      <th>2</th>\n",
       "      <td>inverse</td>\n",
       "      <td>0.2333</td>\n",
       "    </tr>\n",
       "    <tr>\n",
       "      <th>3</th>\n",
       "      <td>defocus_blur</td>\n",
       "      <td>0.3935</td>\n",
       "    </tr>\n",
       "    <tr>\n",
       "      <th>4</th>\n",
       "      <td>gaussian_blur</td>\n",
       "      <td>0.5277</td>\n",
       "    </tr>\n",
       "    <tr>\n",
       "      <th>5</th>\n",
       "      <td>frost</td>\n",
       "      <td>0.6117</td>\n",
       "    </tr>\n",
       "    <tr>\n",
       "      <th>6</th>\n",
       "      <td>gaussian_noise</td>\n",
       "      <td>0.6205</td>\n",
       "    </tr>\n",
       "    <tr>\n",
       "      <th>7</th>\n",
       "      <td>translate</td>\n",
       "      <td>0.6644</td>\n",
       "    </tr>\n",
       "    <tr>\n",
       "      <th>8</th>\n",
       "      <td>canny_edges</td>\n",
       "      <td>0.6845</td>\n",
       "    </tr>\n",
       "    <tr>\n",
       "      <th>9</th>\n",
       "      <td>impulse_noise</td>\n",
       "      <td>0.7049</td>\n",
       "    </tr>\n",
       "    <tr>\n",
       "      <th>10</th>\n",
       "      <td>brightness</td>\n",
       "      <td>0.7698</td>\n",
       "    </tr>\n",
       "    <tr>\n",
       "      <th>11</th>\n",
       "      <td>stripe</td>\n",
       "      <td>0.8395</td>\n",
       "    </tr>\n",
       "    <tr>\n",
       "      <th>12</th>\n",
       "      <td>motion_blur</td>\n",
       "      <td>0.8556</td>\n",
       "    </tr>\n",
       "    <tr>\n",
       "      <th>13</th>\n",
       "      <td>line</td>\n",
       "      <td>0.8759</td>\n",
       "    </tr>\n",
       "    <tr>\n",
       "      <th>14</th>\n",
       "      <td>elastic_transform</td>\n",
       "      <td>0.8847</td>\n",
       "    </tr>\n",
       "    <tr>\n",
       "      <th>15</th>\n",
       "      <td>glass_blur</td>\n",
       "      <td>0.8889</td>\n",
       "    </tr>\n",
       "    <tr>\n",
       "      <th>16</th>\n",
       "      <td>zigzag</td>\n",
       "      <td>0.8905</td>\n",
       "    </tr>\n",
       "    <tr>\n",
       "      <th>17</th>\n",
       "      <td>snow</td>\n",
       "      <td>0.9299</td>\n",
       "    </tr>\n",
       "    <tr>\n",
       "      <th>18</th>\n",
       "      <td>pessimal_noise</td>\n",
       "      <td>0.9343</td>\n",
       "    </tr>\n",
       "    <tr>\n",
       "      <th>19</th>\n",
       "      <td>zoom_blur</td>\n",
       "      <td>0.9347</td>\n",
       "    </tr>\n",
       "    <tr>\n",
       "      <th>20</th>\n",
       "      <td>rotate</td>\n",
       "      <td>0.9358</td>\n",
       "    </tr>\n",
       "    <tr>\n",
       "      <th>21</th>\n",
       "      <td>scale</td>\n",
       "      <td>0.9421</td>\n",
       "    </tr>\n",
       "    <tr>\n",
       "      <th>22</th>\n",
       "      <td>pixelate</td>\n",
       "      <td>0.9491</td>\n",
       "    </tr>\n",
       "  </tbody>\n",
       "</table>\n",
       "</div>"
      ],
      "text/plain": [
       "           corruption  accuracy\n",
       "0            contrast    0.1135\n",
       "1                 fog    0.1158\n",
       "2             inverse    0.2333\n",
       "3        defocus_blur    0.3935\n",
       "4       gaussian_blur    0.5277\n",
       "5               frost    0.6117\n",
       "6      gaussian_noise    0.6205\n",
       "7           translate    0.6644\n",
       "8         canny_edges    0.6845\n",
       "9       impulse_noise    0.7049\n",
       "10         brightness    0.7698\n",
       "11             stripe    0.8395\n",
       "12        motion_blur    0.8556\n",
       "13               line    0.8759\n",
       "14  elastic_transform    0.8847\n",
       "15         glass_blur    0.8889\n",
       "16             zigzag    0.8905\n",
       "17               snow    0.9299\n",
       "18     pessimal_noise    0.9343\n",
       "19          zoom_blur    0.9347\n",
       "20             rotate    0.9358\n",
       "21              scale    0.9421\n",
       "22           pixelate    0.9491"
      ]
     },
     "execution_count": 20,
     "metadata": {},
     "output_type": "execute_result"
    }
   ],
   "source": [
    "filtered_df = corruption_results_df[\n",
    "    corruption_results_df[\"accuracy\"] <= 0.95\n",
    "].drop(columns=[\"num_samples\"])\n",
    "\n",
    "filtered_df"
   ]
  },
  {
   "cell_type": "markdown",
   "id": "a6b6e88d",
   "metadata": {},
   "source": [
    "## 7. Curriculum Training Utilities"
   ]
  },
  {
   "cell_type": "code",
   "execution_count": 21,
   "id": "04cdda82",
   "metadata": {},
   "outputs": [],
   "source": [
    "# MIXUP \n",
    "# Applies Mixup to a batch of inputs and lables \n",
    "def mixup_data(x, y, alpha=0.4):\n",
    "    lam = np.random.beta(alpha, alpha)\n",
    "    batch_size = x.size(0)\n",
    "    index = torch.randperm(batch_size)\n",
    "    mixed_x = lam * x + (1 - lam) * x[index, :]\n",
    "    y_onehot = F.one_hot(y, num_classes=10).float()\n",
    "    mixed_y = lam * y_onehot + (1 - lam) * y_onehot[index]\n",
    "    return mixed_x, mixed_y\n",
    "\n",
    "# Evaluates model on a single dataset \n",
    "def evaluate_model_new(model, datasets, device):\n",
    "    model.eval()\n",
    "    if not isinstance(datasets, dict):\n",
    "        datasets = {\"Unnamed\": datasets}\n",
    "    results = {}\n",
    "    for name, dataset in datasets.items():\n",
    "        loader = DataLoader(dataset, batch_size=256, shuffle=False)\n",
    "        correct = total = 0\n",
    "        for x, y in loader:\n",
    "            x, y = x.to(device), y.to(device)\n",
    "            with torch.no_grad():\n",
    "                outputs = model(x)\n",
    "                preds = outputs.argmax(dim=1)\n",
    "            correct += (preds == y).sum().item()\n",
    "            total += y.size(0)\n",
    "        results[name] = 100.0 * correct / total\n",
    "    return results if len(results) > 1 else list(results.values())[0]\n",
    "\n",
    "# Looks up the corruption blen schedule and returns correct ratios\n",
    "def get_blend_for_epoch(epoch, blend_schedule):\n",
    "    for (start, end), blend in blend_schedule.items():\n",
    "        if start <= epoch <= end:\n",
    "            return blend\n",
    "    return blend_schedule[max(blend_schedule.keys())]\n",
    "\n",
    "# Builds a cobined dataset using rations from mutiple corruption groups\n",
    "def blend_datasets_by_ratio(datasets_dict, ratios, total_samples=60000):\n",
    "    assert abs(sum(ratios.values()) - 1.0) < 1e-3, \"Ratios must sum to 1.0\"\n",
    "    subsets = []\n",
    "    for key, ratio in ratios.items():\n",
    "        dataset_list = datasets_dict.get(key, [])\n",
    "        for dataset in dataset_list:\n",
    "            n = int(ratio * total_samples // len(dataset_list))\n",
    "            indices = random.sample(range(len(dataset)), min(n, len(dataset)))\n",
    "            subsets.append(Subset(dataset, indices))\n",
    "    return ConcatDataset(subsets) if subsets else None\n",
    "\n",
    "# Main Curriculum Loop\n",
    "# Blends dataset based on ration, applies mizup and label smoothing and tracks accurracy across test sets \n",
    "\n",
    "def train_with_curriculum(\n",
    "    model,\n",
    "    optimizer,\n",
    "    criterion,\n",
    "    datasets,\n",
    "    epoch_blends,\n",
    "    test_sets,\n",
    "    num_epochs=20,\n",
    "    batch_size=64,\n",
    "    alpha=0.4,\n",
    "    smoothing=0.1,\n",
    "    save_path=None,\n",
    "    scheduler=None,\n",
    "    show_confusion=False,\n",
    "    per_digit=False\n",
    "):\n",
    "    device = torch.device(\"cuda\" if torch.cuda.is_available() else \"cpu\")\n",
    "    model.to(device)\n",
    "\n",
    "    eval_history = defaultdict(list)\n",
    "    log_history = []  \n",
    "\n",
    "    for epoch in range(num_epochs):\n",
    "        model.train()\n",
    "        blend_ratio = get_blend_for_epoch(epoch, epoch_blends)\n",
    "        alpha_value = alpha(epoch) if callable(alpha) else alpha\n",
    "        smoothing_value = smoothing(epoch) if callable(smoothing) else smoothing\n",
    "\n",
    "        blended_dataset = blend_datasets_by_ratio(datasets, blend_ratio)\n",
    "        if blended_dataset is None or len(blended_dataset) == 0:\n",
    "            raise ValueError(f\"[Epoch {epoch}] Blended dataset is empty.\")\n",
    "\n",
    "        train_loader = DataLoader(blended_dataset, batch_size=batch_size, shuffle=True)\n",
    "\n",
    "        total_loss, correct, total = 0.0, 0, 0\n",
    "\n",
    "        for x, y in train_loader:\n",
    "            x, y = x.to(device), y.to(device)\n",
    "            x_mix, y_mix = mixup_data(x, y, alpha=alpha_value)\n",
    "            y_mix = y_mix * (1 - smoothing_value) + smoothing_value / 10.0\n",
    "\n",
    "            optimizer.zero_grad()\n",
    "            outputs = model(x_mix)\n",
    "            loss = criterion(outputs, y_mix)\n",
    "            loss.backward()\n",
    "            optimizer.step()\n",
    "\n",
    "            total_loss += loss.item() * x.size(0)\n",
    "            preds = outputs.argmax(dim=1)\n",
    "            correct += (preds == y).sum().item()\n",
    "            total += y.size(0)\n",
    "\n",
    "        train_loss = total_loss / total\n",
    "        train_acc = correct / total\n",
    "\n",
    "        # === Evaluation Phase ===\n",
    "        eval_results = {}\n",
    "        for key, dataset in test_sets.items():\n",
    "            acc = evaluate_model_new(model, dataset, device)\n",
    "            eval_results[key] = acc\n",
    "            eval_history[key].append(acc)\n",
    "\n",
    "        print(f\"Epoch {epoch + 1}/{num_epochs} (α={alpha_value:.2f}, ε={smoothing_value:.2f}) | \"\n",
    "              f\"Train Loss: {train_loss:.4f} | Train Acc: {train_acc:.4f} | \" +\n",
    "              \", \".join(f\"{k}: {v:.2f}%\" for k, v in eval_results.items()))\n",
    "\n",
    "        # Save log entry\n",
    "        log_history.append({\n",
    "            \"epoch\": epoch + 1,\n",
    "            \"train_loss\": train_loss,\n",
    "            \"train_acc\": train_acc,\n",
    "            **{f\"test_acc_{k}\": v for k, v in eval_results.items()}\n",
    "        })\n",
    "\n",
    "        # === Scheduler update based on key metric ===\n",
    "        if scheduler:\n",
    "            key = \"combined_corruptions\" if \"combined_corruptions\" in eval_results else list(eval_results.keys())[0]\n",
    "            scheduler.step(eval_results[key])\n",
    "\n",
    "        # === Optional model checkpoint ===\n",
    "        if save_path:\n",
    "            torch.save(model.state_dict(), f\"{save_path}_epoch{epoch+1}.pt\")\n",
    "\n",
    "        # === Final epoch: confusion & per-digit report ===\n",
    "        if epoch == num_epochs - 1:\n",
    "            if per_digit:\n",
    "                print(\"\\nPer-Digit Accuracy Report:\")\n",
    "                # pick first test set for report\n",
    "                for name, ds in test_sets.items():\n",
    "                    evaluate_model_new(model, ds, device, show_graph=False, verbose=True)\n",
    "                    break\n",
    "            if show_confusion:\n",
    "                for name, ds in test_sets.items():\n",
    "                    evaluate_model_new(model, ds, device, show_graph=True, verbose=False)\n",
    "                    break\n",
    "\n",
    "    return model, eval_history, pd.DataFrame(log_history)"
   ]
  },
  {
   "cell_type": "markdown",
   "id": "06efbbf0",
   "metadata": {},
   "source": [
    "## 8. Designing the Curriculum\n"
   ]
  },
  {
   "cell_type": "markdown",
   "id": "9abccdb7",
   "metadata": {},
   "source": [
    "### **Why We Selected Our Methods**\n",
    "\n",
    "We addressed the problem through incremental architectural development and a training strategy focused on robustness rather than raw complexity. Given that MNIST images are 28×28 grayscale images, we choose a lightweight CNN. More advanced networks were impractical given our time and compute constraints.\n",
    "\n",
    "Before training on corruptions, we used zero-shot evaluation to identify which distortions drastically decreased benchmarks. Contrast, fog, and inverse emerged as distotion impacting benchmarks the most. From this analysis, we created a suite of approximate corruption functions and grouped them into four difficulty tiers.\n",
    "\n",
    "We began with a 1-layer CNN to establish a minimal baseline. While effective on clean data, it failed on corrupted inputs. We then iteratively expanded the architecture, ultimately finding that a 3-layer CNN provided the best trade-off between complexity and performance. Even when testing deeper networks, performance plateaued around 92–94%, offering no meaningful improvement.\n",
    "\n",
    "To improve generalization and reduce overfitting, we introduced:\n",
    "\n",
    "- Mixup to blend inputs and labels for smoother decision boundaries  \n",
    "- Label smoothing to reduce prediction overconfidence  \n",
    "- Learning rate scheduling to refine training as progress plateaued\n"
   ]
  },
  {
   "cell_type": "markdown",
   "id": "a9bdc609",
   "metadata": {},
   "source": [
    "### 8.1 Build and Tier Corruptions"
   ]
  },
  {
   "cell_type": "code",
   "execution_count": 22,
   "id": "794fa9a8",
   "metadata": {},
   "outputs": [],
   "source": [
    "### Utility\n",
    "\n",
    "# Check if the image is in the correct mode\n",
    "def ensure_mode(img, mode):\n",
    "    return img.convert(mode) if img.mode != mode else img\n",
    "\n",
    "### Basic Image Coruptions\n",
    "\n",
    "# Adjust Brightness \n",
    "def corruption_brightness(img): return ImageEnhance.Brightness(img).enhance(random.uniform(0.7, 1.3))\n",
    "# Adjust Contrast \n",
    "def corruption_contrast(img): return ImageEnhance.Contrast(img).enhance(random.uniform(0.7, 1.3))\n",
    "\n",
    "# Blends image with Fog Like overlay\n",
    "def corruption_fog(img):\n",
    "    overlay = Image.fromarray(np.uint8(np.random.normal(200, 10, img.size[::-1])))\n",
    "    return Image.blend(ensure_mode(img, \"L\"), overlay.convert(\"L\"), alpha=0.3)\n",
    "\n",
    "\n",
    "# Add Gaussian Pixel Noise\n",
    "def corruption_gaussian_noise(img):\n",
    "    arr = np.array(img).astype(np.float32)\n",
    "    noise = np.random.normal(0, 25, arr.shape)\n",
    "    return Image.fromarray(np.clip(arr + noise, 0, 255).astype(np.uint8))\n",
    "\n",
    "# Apply Gaussian blur\n",
    "def corruption_blur(img): return img.filter(ImageFilter.GaussianBlur(radius=random.uniform(0.5, 1.5)))\n",
    "\n",
    "# Camera motion blur\n",
    "def corruption_motion_blur(img): return img.filter(ImageFilter.BoxBlur(random.uniform(1, 2)))\n",
    "\n",
    "# Rotates the image\n",
    "def corruption_rotate(img): return img.rotate(random.uniform(-30, 30))\n",
    "\n",
    "# Affline Shear\n",
    "def corruption_shear(img):\n",
    "    return img.transform(img.size, Image.AFFINE, (\n",
    "        1, random.uniform(-0.3, 0.3), 0,\n",
    "        random.uniform(-0.3, 0.3), 1, 0\n",
    "    ))\n",
    "\n",
    "# Apply White Specks\n",
    "def corruption_spatter(img):\n",
    "    arr = np.array(img)\n",
    "    mask = np.random.rand(*arr.shape) < 0.03\n",
    "    arr[mask] = 255\n",
    "    return Image.fromarray(arr)\n",
    "\n",
    "# Elastic Warping \n",
    "def corruption_elastic(img): return apply_elastic_transform(img)\n",
    "\n",
    "# Shifts \n",
    "def corruption_translate(img): return apply_translation(img)\n",
    "\n",
    "# Apply realistic Fog\n",
    "def corruption_realistic_fog(img): return apply_realistic_fog(img)\n",
    "\n",
    "# Inverts the pixel values \n",
    "def corruption_inverse(img): return ImageOps.invert(ensure_mode(img, \"L\"))\n",
    "\n",
    "# Adds horizontal black stripes \n",
    "def corruption_stripe(img):\n",
    "    arr = np.array(img)\n",
    "    for i in range(0, arr.shape[0], 4):\n",
    "        arr[i:i+2, :] = 0\n",
    "    return Image.fromarray(arr)\n",
    "\n",
    "# Canny Edge\n",
    "def corruption_canny(img):\n",
    "    arr = np.array(ensure_mode(img, \"L\"))\n",
    "    edges = cv2.Canny(arr, 100, 200)\n",
    "    return Image.fromarray(edges)\n",
    "\n",
    "# Extreme contrast\n",
    "def corruption_contrast_extreme(img):\n",
    "    factor = random.uniform(2.0, 4.0)\n",
    "    return ImageEnhance.Contrast(img).enhance(factor)\n",
    "\n",
    "# Apply low or high contrast\n",
    "def corruption_contrast_augmented(img):\n",
    "    factor = random.uniform(0.3, 0.7) if random.random() < 0.5 else random.uniform(2.0, 4.0)\n",
    "    return ImageEnhance.Contrast(img).enhance(factor)\n",
    "\n",
    "### Generalized Corruptions\n",
    "\n",
    "# Zoom In/out\n",
    "def corruption_zoom(img, scale_range=(0.9, 1.1)):\n",
    "    img = ensure_mode(img, \"L\")\n",
    "    w, h = img.size\n",
    "    scale = random.uniform(*scale_range)\n",
    "    new_w, new_h = int(w * scale), int(h * scale)\n",
    "    img_resized = img.resize((new_w, new_h), Image.BILINEAR)\n",
    "    result = Image.new(img.mode, (w, h))\n",
    "    paste_w, paste_h = (w - new_w) // 2, (h - new_h) // 2\n",
    "    result.paste(img_resized, (paste_w, paste_h))\n",
    "    return result\n",
    "\n",
    "# Compression Artifact\n",
    "def corruption_jpeg(img, quality_range=(10, 50)):\n",
    "    img = ensure_mode(img, \"L\")\n",
    "    buffer = io.BytesIO()\n",
    "    img.save(buffer, format=\"JPEG\", quality=random.randint(*quality_range))\n",
    "    buffer.seek(0)\n",
    "    return Image.open(buffer).convert(\"L\")\n",
    "\n",
    "# Simulates Pixelation\n",
    "def corruption_pixelate(img, factor_range=(2, 5)):\n",
    "    img = ensure_mode(img, \"L\")\n",
    "    factor = random.randint(*factor_range)\n",
    "    small = img.resize((img.width // factor, img.height // factor), Image.NEAREST)\n",
    "    return small.resize(img.size, Image.NEAREST)\n",
    "\n",
    "# Random Black and White Pixels\n",
    "def corruption_salt_pepper(img, amount=0.02):\n",
    "    img = ensure_mode(img, \"L\")\n",
    "    arr = np.array(img)\n",
    "    mask = np.random.rand(*arr.shape)\n",
    "    arr[mask < amount / 2] = 0\n",
    "    arr[mask > 1 - amount / 2] = 255\n",
    "    return Image.fromarray(arr)\n",
    "\n",
    "# Black Square in random locations \n",
    "def corruption_cutout(img, size=8):\n",
    "    img = ensure_mode(img, \"L\")\n",
    "    arr = np.array(img)\n",
    "    h, w = arr.shape\n",
    "    y = random.randint(0, h - size)\n",
    "    x = random.randint(0, w - size)\n",
    "    arr[y:y+size, x:x+size] = 0\n",
    "    return Image.fromarray(arr)\n",
    "\n",
    "### Helper Functions for above for more advanced effects\n",
    "\n",
    "def apply_elastic_transform(img, alpha=36, sigma=5):\n",
    "    img = ensure_mode(img, \"L\")\n",
    "    arr = np.array(img)\n",
    "    random_state = np.random.RandomState(None)\n",
    "    shape = arr.shape\n",
    "    dx = gaussian_filter((random_state.rand(*shape) * 2 - 1), sigma) * alpha\n",
    "    dy = gaussian_filter((random_state.rand(*shape) * 2 - 1), sigma) * alpha\n",
    "    x, y = np.meshgrid(np.arange(shape[1]), np.arange(shape[0]))\n",
    "    indices = np.reshape(y + dy, (-1, 1)), np.reshape(x + dx, (-1, 1))\n",
    "    distorted = map_coordinates(arr, indices, order=1, mode='reflect').reshape(shape)\n",
    "    return Image.fromarray(np.clip(distorted, 0, 255).astype(np.uint8))\n",
    "\n",
    "def apply_translation(img, max_shift=5):\n",
    "    width, height = img.size\n",
    "    x_shift = random.randint(-max_shift, max_shift)\n",
    "    y_shift = random.randint(-max_shift, max_shift)\n",
    "    translated = Image.new(\"L\", (width, height), 0)\n",
    "    translated.paste(img, (x_shift, y_shift))\n",
    "    return translated\n",
    "\n",
    "\n",
    "def apply_realistic_fog(img, fog_strength=0.3, blur_radius=1.0):\n",
    "    width, height = img.size\n",
    "    noise = np.random.rand(height, width) * 255\n",
    "    fog_layer = cv2.GaussianBlur(noise, (0, 0), sigmaX=8, sigmaY=8)\n",
    "    fog_layer = np.clip(fog_layer, 0, 255).astype(np.uint8)\n",
    "    fog_img = Image.fromarray(fog_layer).convert(\"L\")\n",
    "    img = ensure_mode(img, \"L\")\n",
    "    fogged = Image.blend(img, fog_img, alpha=fog_strength)\n",
    "    return fogged.filter(ImageFilter.GaussianBlur(blur_radius))\n",
    "\n",
    "# Tiered Corruption Pools Manualy Set\n",
    "TIERED_CORRUPTION_POOLS = {\n",
    "    \"easy\": {\n",
    "        \"identity\": lambda x: x,\n",
    "        \"jpeg_compression\": corruption_jpeg,\n",
    "        \"quantize\": corruption_contrast_augmented,\n",
    "        \"zoom_blur\": corruption_zoom,\n",
    "        \"dotted_line\": None,\n",
    "        \"saturate\": corruption_contrast,\n",
    "        \"shear\": corruption_shear,\n",
    "        \"speckle_noise\": corruption_gaussian_noise,\n",
    "        \"shot_noise\": corruption_gaussian_noise,\n",
    "        \"brightness\": corruption_brightness,\n",
    "        \"spatter\": corruption_spatter,\n",
    "    },\n",
    "    \"moderate\": {\n",
    "        \"motion_blur\": corruption_motion_blur,\n",
    "        \"pixelate\": corruption_pixelate,\n",
    "        \"canny_edges\": corruption_canny,\n",
    "        \"defocus_blur\": corruption_blur,\n",
    "        \"impulse_noise\": corruption_salt_pepper,\n",
    "        \"scale\": corruption_zoom,\n",
    "        \"frost\": corruption_realistic_fog,\n",
    "        \"rotate\": corruption_rotate,\n",
    "        \"gaussian_noise\": corruption_gaussian_noise,\n",
    "        \"elastic_transform\": corruption_elastic,\n",
    "        \"snow\": corruption_spatter,\n",
    "        \"translate\": corruption_translate,\n",
    "    },\n",
    "    \"hard\": {\n",
    "        \"inverse\": corruption_inverse,\n",
    "        \"fog\": corruption_fog,\n",
    "        \"glass_blur\": corruption_blur,\n",
    "        \"gaussian_blur\": corruption_blur,\n",
    "        \"pessimal_noise\": corruption_gaussian_noise,\n",
    "    },\n",
    "    \"challenging\": {\n",
    "        \"zigzag\": corruption_contrast_extreme,\n",
    "        \"line\": corruption_stripe,\n",
    "        \"contrast\": corruption_contrast,\n",
    "        \"stripe\": corruption_stripe,\n",
    "    }\n",
    "}\n",
    "\n",
    "# Randomly Seleccts and applies one corruption to the image\n",
    "def apply_random_corruption(img, corruption_pool, mode=\"L\"):\n",
    "    img = ensure_mode(img, mode)\n",
    "    valid_corruptions = [(k, v) for k, v in corruption_pool.items() if callable(v)]\n",
    "    if not valid_corruptions:\n",
    "        raise ValueError(\"Corruption pool has no valid corruption functions.\")\n",
    "    _, corruption_fn = random.choice(valid_corruptions)\n",
    "    return corruption_fn(img)"
   ]
  },
  {
   "cell_type": "code",
   "execution_count": 23,
   "id": "06925ef9",
   "metadata": {},
   "outputs": [],
   "source": [
    "def assign_balanced_tiers(df):\n",
    "    df = df.copy().sort_values(by=\"accuracy\", ascending=True).reset_index(drop=True)\n",
    "\n",
    "    # First 2 = Challenging\n",
    "    df.loc[:1, \"tier\"] = \"challenging\"\n",
    "\n",
    "    # Next 10 = Hard, next 10 = Moderate, next 10 = Easy\n",
    "    df.loc[2:11, \"tier\"] = \"hard\"\n",
    "    df.loc[12:21, \"tier\"] = \"moderate\"\n",
    "    df.loc[22:, \"tier\"] = \"easy\"\n",
    "\n",
    "    return df\n",
    "\n",
    "def get_balanced_corruption_tiers(df):\n",
    "    tiered = assign_balanced_tiers(df)\n",
    "\n",
    "    tiers = {\n",
    "        \"challenging\": [],\n",
    "        \"hard\": [],\n",
    "        \"moderate\": [],\n",
    "        \"easy\": []\n",
    "    }\n",
    "\n",
    "    for _, row in tiered.iterrows():\n",
    "        tiers[row[\"tier\"]].append(row[\"corruption\"])\n",
    "\n",
    "    return tiers\n"
   ]
  },
  {
   "cell_type": "markdown",
   "id": "5bf08b64",
   "metadata": {},
   "source": [
    "### 8.2: Pooling Corruptions Into Tiers"
   ]
  },
  {
   "cell_type": "code",
   "execution_count": 24,
   "id": "d4c1e49a",
   "metadata": {},
   "outputs": [
    {
     "name": "stdout",
     "output_type": "stream",
     "text": [
      "Easy: pixelate, shot_noise, speckle_noise, saturate, shear, dotted_line, spatter, jpeg_compression, quantize, identity\n",
      "Moderate: motion_blur, line, elastic_transform, glass_blur, zigzag, snow, pessimal_noise, zoom_blur, rotate, scale\n",
      "Hard: inverse, defocus_blur, gaussian_blur, frost, gaussian_noise, translate, canny_edges, impulse_noise, brightness, stripe\n",
      "Challenging: contrast, fog\n"
     ]
    }
   ],
   "source": [
    "\n",
    "balanced_tiers = get_balanced_corruption_tiers(corruption_results_df)\n",
    "\n",
    "for tier in [\"easy\", \"moderate\", \"hard\", \"challenging\"]:\n",
    "    print(f\"{tier.capitalize()}: {', '.join(balanced_tiers[tier])}\")\n",
    "\n",
    "tiered_datasets = {\n",
    "    \"easy\": [CorruptedMNISTDataset(train_mnist, TIERED_CORRUPTION_POOLS[\"easy\"])],\n",
    "    \"moderate\": [CorruptedMNISTDataset(train_mnist, TIERED_CORRUPTION_POOLS[\"moderate\"])],\n",
    "    \"hard\": [CorruptedMNISTDataset(train_mnist, TIERED_CORRUPTION_POOLS[\"hard\"])],\n",
    "    \"challenging\": [CorruptedMNISTDataset(train_mnist, TIERED_CORRUPTION_POOLS[\"challenging\"])],\n",
    "    \"mnist\": [train_mnist],  # clean samples\n",
    "}\n",
    "\n",
    "test_sets = {\n",
    "    \"clean\": test_mnist,\n",
    "    \"combined_corruptions\": combined_mnist_c_test\n",
    "}"
   ]
  },
  {
   "cell_type": "code",
   "execution_count": 25,
   "id": "375532e0",
   "metadata": {},
   "outputs": [],
   "source": [
    "def get_mnist_examples_by_corruption():\n",
    "    seen = set()\n",
    "    samples = []\n",
    "    \n",
    "    # Select a random image from the MNIST dataset and apply each corruption to it\n",
    "    img = train_mnist[random.randint(0, len(train_mnist) - 1)][0]\n",
    "    for rank in TIERED_CORRUPTION_POOLS:\n",
    "        valid_corruptions = [(k, v) for k, v in TIERED_CORRUPTION_POOLS[rank].items() if callable(v)]\n",
    "        for _, corruption in valid_corruptions:\n",
    "            if corruption == None:\n",
    "                continue\n",
    "            img2 = TF.to_pil_image(img)\n",
    "            img2 = corruption(img2)\n",
    "            samples.append((img2, _))\n",
    "\n",
    "    return samples"
   ]
  },
  {
   "cell_type": "code",
   "execution_count": 26,
   "id": "0288e7be",
   "metadata": {},
   "outputs": [
    {
     "data": {
      "image/png": "[encoded data removed]",
      "text/plain": [
       "<Figure size 1000x800 with 31 Axes>"
      ]
     },
     "metadata": {},
     "output_type": "display_data"
    }
   ],
   "source": [
    "digit_samples = get_mnist_examples_by_corruption()\n",
    "\n",
    "plt.figure(figsize=(10, 8))\n",
    "for i, (img, label) in enumerate(digit_samples):\n",
    "    plt.subplot(6, 6, i + 1)\n",
    "    plt.imshow(img, cmap=\"gray\")\n",
    "    plt.title(f\"{label}\")\n",
    "    plt.axis(\"off\")\n",
    "\n",
    "plt.suptitle(\"Corruptions: One Example per Type\", fontsize=16)\n",
    "plt.tight_layout()\n",
    "plt.show()"
   ]
  },
  {
   "cell_type": "markdown",
   "id": "d7335da3",
   "metadata": {},
   "source": [
    "From the image of the corruptions, some of the labeled corruptions have the same or similar corruption performed on the image compared to others. This is due to some of the corruptions being slight variations of the same corruption, like \"gaussian_noise\" and \"pessimal_noise\" are essentially the same thing. We also did this to not have the model know exactly *what* each corruption does to the image, but rather a generalization of that specific corruption."
   ]
  },
  {
   "cell_type": "markdown",
   "id": "a048571d",
   "metadata": {},
   "source": [
    "## 9. Curriculum-Based Training"
   ]
  },
  {
   "cell_type": "markdown",
   "id": "7e9e2bb7",
   "metadata": {},
   "source": [
    "### **Hyperparameter Tuning and Training Configuration**\n",
    "We tuned twelve key hyperparameters iteratively. Rather than using grid search, we adjusted based on observed behavior like early saturation or sudden plateaus in accuracy.\n",
    "\n",
    "Our final setup:\n",
    "- Architecture: 3-layer CNN, 128 filters, dropout 0.1 → 0.3 across layers\n",
    "- Optimizer: Adam\n",
    "- Initial Learning Rate: 0.001\n",
    "- Scheduler: ReduceLROnPlateau\n",
    "- Epochs: 15 total (saturation at epoch 6)\n",
    "- Batch Size: 64\n",
    "- Loss Function: Cross-entropy with label smoothing (0.1)\n",
    "- Mixup Ratio: 0.2\n",
    "- Curriculum: All corruption tiers introduced by epoch 6\n",
    "\n",
    "We attempted to find the \"best\" trade-off between convergence speed and robustness to hard corruptions.\n"
   ]
  },
  {
   "cell_type": "markdown",
   "id": "d5f196c0",
   "metadata": {},
   "source": [
    "### 9.1 Curriculum Training Execution"
   ]
  },
  {
   "cell_type": "code",
   "execution_count": 27,
   "id": "008f2997",
   "metadata": {},
   "outputs": [
    {
     "name": "stderr",
     "output_type": "stream",
     "text": [
      "c:\\Python312\\Lib\\site-packages\\torch\\optim\\lr_scheduler.py:62: UserWarning: The verbose parameter is deprecated. Please use get_last_lr() to access the learning rate.\n",
      "  warnings.warn(\n"
     ]
    },
    {
     "name": "stdout",
     "output_type": "stream",
     "text": [
      "Epoch 1/15 (α=0.40, ε=0.10) | Train Loss: 1.1799 | Train Acc: 0.4891 | clean: 98.43%, combined_corruptions: 93.93%\n",
      "Epoch 2/15 (α=0.40, ε=0.10) | Train Loss: 1.0614 | Train Acc: 0.5182 | clean: 98.82%, combined_corruptions: 94.95%\n",
      "Epoch 3/15 (α=0.40, ε=0.10) | Train Loss: 1.0538 | Train Acc: 0.5265 | clean: 98.95%, combined_corruptions: 94.97%\n",
      "Epoch 4/15 (α=0.40, ε=0.10) | Train Loss: 1.0259 | Train Acc: 0.5367 | clean: 99.04%, combined_corruptions: 95.63%\n",
      "Epoch 5/15 (α=0.40, ε=0.10) | Train Loss: 1.0032 | Train Acc: 0.5377 | clean: 98.98%, combined_corruptions: 95.95%\n",
      "Epoch 6/15 (α=0.40, ε=0.10) | Train Loss: 1.0118 | Train Acc: 0.5422 | clean: 99.00%, combined_corruptions: 95.63%\n",
      "Epoch 7/15 (α=0.40, ε=0.10) | Train Loss: 0.9933 | Train Acc: 0.5477 | clean: 99.05%, combined_corruptions: 96.22%\n",
      "Epoch 8/15 (α=0.40, ε=0.10) | Train Loss: 0.9971 | Train Acc: 0.5406 | clean: 99.11%, combined_corruptions: 96.25%\n",
      "Epoch 9/15 (α=0.40, ε=0.10) | Train Loss: 0.9835 | Train Acc: 0.5440 | clean: 99.14%, combined_corruptions: 96.12%\n",
      "Epoch 10/15 (α=0.40, ε=0.10) | Train Loss: 0.9724 | Train Acc: 0.5493 | clean: 99.09%, combined_corruptions: 96.36%\n",
      "Epoch 11/15 (α=0.40, ε=0.10) | Train Loss: 0.9623 | Train Acc: 0.5595 | clean: 99.15%, combined_corruptions: 96.29%\n",
      "Epoch 12/15 (α=0.40, ε=0.10) | Train Loss: 0.9556 | Train Acc: 0.5505 | clean: 99.25%, combined_corruptions: 96.10%\n",
      "Epoch 13/15 (α=0.40, ε=0.10) | Train Loss: 0.9386 | Train Acc: 0.5284 | clean: 99.29%, combined_corruptions: 96.09%\n",
      "Epoch 14/15 (α=0.40, ε=0.10) | Train Loss: 0.9509 | Train Acc: 0.5470 | clean: 99.21%, combined_corruptions: 95.72%\n",
      "Epoch 15/15 (α=0.40, ε=0.10) | Train Loss: 0.9354 | Train Acc: 0.5504 | clean: 99.36%, combined_corruptions: 95.95%\n"
     ]
    }
   ],
   "source": [
    "epoch_blends = {\n",
    "    # Epochs 0–2: Easy but still moving into robust\n",
    "    (0, 2): {\n",
    "        \"easy\": 0.3,\n",
    "        \"moderate\": 0.2,\n",
    "        \"hard\": 0.3,\n",
    "        \"challenging\": 0.2,\n",
    "    },\n",
    "    # Epochs 3–5: Shift diffculty fast\n",
    "    (3, 5): {\n",
    "        \"easy\": 0.1,\n",
    "        \"moderate\": 0.2,\n",
    "        \"hard\": 0.45,\n",
    "        \"challenging\": 0.25,\n",
    "    },\n",
    "    # Epochs 6–10: Hard + challenging are the majority\n",
    "    (6, 10): {\n",
    "        \"easy\": 0.0,\n",
    "        \"moderate\": 0.1,\n",
    "        \"hard\": 0.55,\n",
    "        \"challenging\": 0.35,\n",
    "    },\n",
    "    # Epochs 11–15: Challenging bootcamp begins\n",
    "    (11, 15): {\n",
    "        \"easy\": 0.0,\n",
    "        \"moderate\": 0.0,\n",
    "        \"hard\": 0.4,\n",
    "        \"challenging\": 0.6,\n",
    "    }\n",
    "}\n",
    "\n",
    "model = SimpleCNN()\n",
    "optimizer = torch.optim.Adam(model.parameters(), lr=0.001)\n",
    "scheduler = ReduceLROnPlateau(optimizer, mode='max', factor=0.5, patience=3, verbose=True)\n",
    "criterion = nn.CrossEntropyLoss()\n",
    "\n",
    "#model = SimpleCNN()  \n",
    "#optimizer = torch.optim.Adam(model.parameters(), lr=0.001) \n",
    "#criterion = nn.CrossEntropyLoss()\n",
    "\n",
    "model, eval_history, curriculum_df = train_with_curriculum(\n",
    "    model=model,\n",
    "    optimizer=optimizer,\n",
    "    criterion=criterion,\n",
    "    datasets=tiered_datasets,\n",
    "    epoch_blends=epoch_blends,\n",
    "    test_sets=test_sets,\n",
    "    num_epochs=15,\n",
    "    batch_size=64,\n",
    "    alpha=0.4,\n",
    "    smoothing=0.1,\n",
    "    show_confusion=False,      \n",
    "    per_digit=False             \n",
    ")"
   ]
  },
  {
   "cell_type": "code",
   "execution_count": 39,
   "id": "0fd59a9f",
   "metadata": {},
   "outputs": [],
   "source": [
    "corruption_results_df = evaluate_per_corruption(\n",
    "    model=model,\n",
    "    corruption_dict=full_corruption_dict,\n",
    "    device=device\n",
    ")"
   ]
  },
  {
   "cell_type": "code",
   "execution_count": 40,
   "id": "32a9483a",
   "metadata": {},
   "outputs": [
    {
     "data": {
      "application/vnd.microsoft.datawrangler.viewer.v0+json": {
       "columns": [
        {
         "name": "index",
         "rawType": "int64",
         "type": "integer"
        },
        {
         "name": "corruption",
         "rawType": "object",
         "type": "string"
        },
        {
         "name": "accuracy",
         "rawType": "float64",
         "type": "float"
        }
       ],
       "conversionMethod": "pd.DataFrame",
       "ref": "e3d3873a-f3f8-42cf-bbf6-43a3423d8dff",
       "rows": [
        [
         "0",
         "translate",
         "0.7652"
        ],
        [
         "1",
         "zigzag",
         "0.9104"
        ],
        [
         "2",
         "elastic_transform",
         "0.9205"
        ],
        [
         "3",
         "line",
         "0.9229"
        ],
        [
         "4",
         "contrast",
         "0.9256"
        ],
        [
         "5",
         "canny_edges",
         "0.9317"
        ],
        [
         "6",
         "rotate",
         "0.9362"
        ],
        [
         "7",
         "gaussian_blur",
         "0.944"
        ],
        [
         "8",
         "pessimal_noise",
         "0.9451"
        ],
        [
         "9",
         "stripe",
         "0.9528"
        ],
        [
         "10",
         "glass_blur",
         "0.9547"
        ],
        [
         "11",
         "impulse_noise",
         "0.9614"
        ],
        [
         "12",
         "motion_blur",
         "0.9642"
        ],
        [
         "13",
         "gaussian_noise",
         "0.9642"
        ],
        [
         "14",
         "scale",
         "0.969"
        ],
        [
         "15",
         "pixelate",
         "0.9748"
        ],
        [
         "16",
         "defocus_blur",
         "0.976"
        ],
        [
         "17",
         "fog",
         "0.9785"
        ],
        [
         "18",
         "snow",
         "0.9804"
        ],
        [
         "19",
         "shear",
         "0.9817"
        ],
        [
         "20",
         "dotted_line",
         "0.9825"
        ],
        [
         "21",
         "zoom_blur",
         "0.9836"
        ],
        [
         "22",
         "spatter",
         "0.9845"
        ],
        [
         "23",
         "frost",
         "0.9849"
        ],
        [
         "24",
         "shot_noise",
         "0.9856"
        ],
        [
         "25",
         "saturate",
         "0.9862"
        ],
        [
         "26",
         "brightness",
         "0.9867"
        ],
        [
         "27",
         "inverse",
         "0.9868"
        ],
        [
         "28",
         "speckle_noise",
         "0.9876"
        ],
        [
         "29",
         "jpeg_compression",
         "0.99"
        ],
        [
         "30",
         "quantize",
         "0.9917"
        ],
        [
         "31",
         "identity",
         "0.9936"
        ]
       ],
       "shape": {
        "columns": 2,
        "rows": 32
       }
      },
      "text/html": [
       "<div>\n",
       "<style scoped>\n",
       "    .dataframe tbody tr th:only-of-type {\n",
       "        vertical-align: middle;\n",
       "    }\n",
       "\n",
       "    .dataframe tbody tr th {\n",
       "        vertical-align: top;\n",
       "    }\n",
       "\n",
       "    .dataframe thead th {\n",
       "        text-align: right;\n",
       "    }\n",
       "</style>\n",
       "<table border=\"1\" class=\"dataframe\">\n",
       "  <thead>\n",
       "    <tr style=\"text-align: right;\">\n",
       "      <th></th>\n",
       "      <th>corruption</th>\n",
       "      <th>accuracy</th>\n",
       "    </tr>\n",
       "  </thead>\n",
       "  <tbody>\n",
       "    <tr>\n",
       "      <th>0</th>\n",
       "      <td>translate</td>\n",
       "      <td>0.7652</td>\n",
       "    </tr>\n",
       "    <tr>\n",
       "      <th>1</th>\n",
       "      <td>zigzag</td>\n",
       "      <td>0.9104</td>\n",
       "    </tr>\n",
       "    <tr>\n",
       "      <th>2</th>\n",
       "      <td>elastic_transform</td>\n",
       "      <td>0.9205</td>\n",
       "    </tr>\n",
       "    <tr>\n",
       "      <th>3</th>\n",
       "      <td>line</td>\n",
       "      <td>0.9229</td>\n",
       "    </tr>\n",
       "    <tr>\n",
       "      <th>4</th>\n",
       "      <td>contrast</td>\n",
       "      <td>0.9256</td>\n",
       "    </tr>\n",
       "    <tr>\n",
       "      <th>5</th>\n",
       "      <td>canny_edges</td>\n",
       "      <td>0.9317</td>\n",
       "    </tr>\n",
       "    <tr>\n",
       "      <th>6</th>\n",
       "      <td>rotate</td>\n",
       "      <td>0.9362</td>\n",
       "    </tr>\n",
       "    <tr>\n",
       "      <th>7</th>\n",
       "      <td>gaussian_blur</td>\n",
       "      <td>0.9440</td>\n",
       "    </tr>\n",
       "    <tr>\n",
       "      <th>8</th>\n",
       "      <td>pessimal_noise</td>\n",
       "      <td>0.9451</td>\n",
       "    </tr>\n",
       "    <tr>\n",
       "      <th>9</th>\n",
       "      <td>stripe</td>\n",
       "      <td>0.9528</td>\n",
       "    </tr>\n",
       "    <tr>\n",
       "      <th>10</th>\n",
       "      <td>glass_blur</td>\n",
       "      <td>0.9547</td>\n",
       "    </tr>\n",
       "    <tr>\n",
       "      <th>11</th>\n",
       "      <td>impulse_noise</td>\n",
       "      <td>0.9614</td>\n",
       "    </tr>\n",
       "    <tr>\n",
       "      <th>12</th>\n",
       "      <td>motion_blur</td>\n",
       "      <td>0.9642</td>\n",
       "    </tr>\n",
       "    <tr>\n",
       "      <th>13</th>\n",
       "      <td>gaussian_noise</td>\n",
       "      <td>0.9642</td>\n",
       "    </tr>\n",
       "    <tr>\n",
       "      <th>14</th>\n",
       "      <td>scale</td>\n",
       "      <td>0.9690</td>\n",
       "    </tr>\n",
       "    <tr>\n",
       "      <th>15</th>\n",
       "      <td>pixelate</td>\n",
       "      <td>0.9748</td>\n",
       "    </tr>\n",
       "    <tr>\n",
       "      <th>16</th>\n",
       "      <td>defocus_blur</td>\n",
       "      <td>0.9760</td>\n",
       "    </tr>\n",
       "    <tr>\n",
       "      <th>17</th>\n",
       "      <td>fog</td>\n",
       "      <td>0.9785</td>\n",
       "    </tr>\n",
       "    <tr>\n",
       "      <th>18</th>\n",
       "      <td>snow</td>\n",
       "      <td>0.9804</td>\n",
       "    </tr>\n",
       "    <tr>\n",
       "      <th>19</th>\n",
       "      <td>shear</td>\n",
       "      <td>0.9817</td>\n",
       "    </tr>\n",
       "    <tr>\n",
       "      <th>20</th>\n",
       "      <td>dotted_line</td>\n",
       "      <td>0.9825</td>\n",
       "    </tr>\n",
       "    <tr>\n",
       "      <th>21</th>\n",
       "      <td>zoom_blur</td>\n",
       "      <td>0.9836</td>\n",
       "    </tr>\n",
       "    <tr>\n",
       "      <th>22</th>\n",
       "      <td>spatter</td>\n",
       "      <td>0.9845</td>\n",
       "    </tr>\n",
       "    <tr>\n",
       "      <th>23</th>\n",
       "      <td>frost</td>\n",
       "      <td>0.9849</td>\n",
       "    </tr>\n",
       "    <tr>\n",
       "      <th>24</th>\n",
       "      <td>shot_noise</td>\n",
       "      <td>0.9856</td>\n",
       "    </tr>\n",
       "    <tr>\n",
       "      <th>25</th>\n",
       "      <td>saturate</td>\n",
       "      <td>0.9862</td>\n",
       "    </tr>\n",
       "    <tr>\n",
       "      <th>26</th>\n",
       "      <td>brightness</td>\n",
       "      <td>0.9867</td>\n",
       "    </tr>\n",
       "    <tr>\n",
       "      <th>27</th>\n",
       "      <td>inverse</td>\n",
       "      <td>0.9868</td>\n",
       "    </tr>\n",
       "    <tr>\n",
       "      <th>28</th>\n",
       "      <td>speckle_noise</td>\n",
       "      <td>0.9876</td>\n",
       "    </tr>\n",
       "    <tr>\n",
       "      <th>29</th>\n",
       "      <td>jpeg_compression</td>\n",
       "      <td>0.9900</td>\n",
       "    </tr>\n",
       "    <tr>\n",
       "      <th>30</th>\n",
       "      <td>quantize</td>\n",
       "      <td>0.9917</td>\n",
       "    </tr>\n",
       "    <tr>\n",
       "      <th>31</th>\n",
       "      <td>identity</td>\n",
       "      <td>0.9936</td>\n",
       "    </tr>\n",
       "  </tbody>\n",
       "</table>\n",
       "</div>"
      ],
      "text/plain": [
       "           corruption  accuracy\n",
       "0           translate    0.7652\n",
       "1              zigzag    0.9104\n",
       "2   elastic_transform    0.9205\n",
       "3                line    0.9229\n",
       "4            contrast    0.9256\n",
       "5         canny_edges    0.9317\n",
       "6              rotate    0.9362\n",
       "7       gaussian_blur    0.9440\n",
       "8      pessimal_noise    0.9451\n",
       "9              stripe    0.9528\n",
       "10         glass_blur    0.9547\n",
       "11      impulse_noise    0.9614\n",
       "12        motion_blur    0.9642\n",
       "13     gaussian_noise    0.9642\n",
       "14              scale    0.9690\n",
       "15           pixelate    0.9748\n",
       "16       defocus_blur    0.9760\n",
       "17                fog    0.9785\n",
       "18               snow    0.9804\n",
       "19              shear    0.9817\n",
       "20        dotted_line    0.9825\n",
       "21          zoom_blur    0.9836\n",
       "22            spatter    0.9845\n",
       "23              frost    0.9849\n",
       "24         shot_noise    0.9856\n",
       "25           saturate    0.9862\n",
       "26         brightness    0.9867\n",
       "27            inverse    0.9868\n",
       "28      speckle_noise    0.9876\n",
       "29   jpeg_compression    0.9900\n",
       "30           quantize    0.9917\n",
       "31           identity    0.9936"
      ]
     },
     "execution_count": 40,
     "metadata": {},
     "output_type": "execute_result"
    }
   ],
   "source": [
    "corruption_results_df = corruption_results_df.drop(columns=[\"num_samples\"])\n",
    "corruption_results_df"
   ]
  },
  {
   "cell_type": "markdown",
   "id": "83de5bb7",
   "metadata": {},
   "source": [
    "\n",
    "It was important that we reached ~99% accuracy on the standard MNIST test set, with a high accuracy on uncorrupted data it confirms that the model has learned the digit classification task, eliminating the concerns of underfitting. Without the original baseline, poor perforamce on corrupted inputs could have been attributed to general model weakness rather than a failure to generalize."
   ]
  },
  {
   "cell_type": "markdown",
   "id": "0ad36d68",
   "metadata": {},
   "source": [
    "## 10. Visualizing What the Model Sees (Post-Curriculum)"
   ]
  },
  {
   "cell_type": "code",
   "execution_count": 41,
   "id": "fbf31058",
   "metadata": {},
   "outputs": [
    {
     "data": {
      "image/png": "[encoded data removed]",
      "text/plain": [
       "<Figure size 1500x200 with 10 Axes>"
      ]
     },
     "metadata": {},
     "output_type": "display_data"
    }
   ],
   "source": [
    "generate_digit_visualizations(model, device, steps=1000)"
   ]
  },
  {
   "cell_type": "markdown",
   "id": "d5f4574d",
   "metadata": {},
   "source": [
    "## 11. Curriculum Evaluation and Comparison"
   ]
  },
  {
   "cell_type": "markdown",
   "id": "037e484a",
   "metadata": {},
   "source": [
    "The curriculum-trained model significantly improved robustness on MNIST-C. "
   ]
  },
  {
   "cell_type": "code",
   "execution_count": 50,
   "id": "c5f9f7aa",
   "metadata": {},
   "outputs": [
    {
     "data": {
      "application/vnd.microsoft.datawrangler.viewer.v0+json": {
       "columns": [
        {
         "name": "index",
         "rawType": "int64",
         "type": "integer"
        },
        {
         "name": "corruption",
         "rawType": "object",
         "type": "string"
        },
        {
         "name": "accuracy_curriculum",
         "rawType": "float64",
         "type": "float"
        },
        {
         "name": "accuracy_original",
         "rawType": "float64",
         "type": "float"
        }
       ],
       "conversionMethod": "pd.DataFrame",
       "ref": "db2b4784-3bb0-4b43-9ed4-2ff51e794676",
       "rows": [
        [
         "4",
         "contrast",
         "0.9256",
         "0.1135"
        ],
        [
         "9",
         "stripe",
         "0.9528",
         "0.8395"
        ],
        [
         "3",
         "line",
         "0.9229",
         "0.8759"
        ],
        [
         "1",
         "zigzag",
         "0.9104",
         "0.8905"
        ]
       ],
       "shape": {
        "columns": 3,
        "rows": 4
       }
      },
      "text/html": [
       "<div>\n",
       "<style scoped>\n",
       "    .dataframe tbody tr th:only-of-type {\n",
       "        vertical-align: middle;\n",
       "    }\n",
       "\n",
       "    .dataframe tbody tr th {\n",
       "        vertical-align: top;\n",
       "    }\n",
       "\n",
       "    .dataframe thead th {\n",
       "        text-align: right;\n",
       "    }\n",
       "</style>\n",
       "<table border=\"1\" class=\"dataframe\">\n",
       "  <thead>\n",
       "    <tr style=\"text-align: right;\">\n",
       "      <th></th>\n",
       "      <th>corruption</th>\n",
       "      <th>accuracy_curriculum</th>\n",
       "      <th>accuracy_original</th>\n",
       "    </tr>\n",
       "  </thead>\n",
       "  <tbody>\n",
       "    <tr>\n",
       "      <th>4</th>\n",
       "      <td>contrast</td>\n",
       "      <td>0.9256</td>\n",
       "      <td>0.1135</td>\n",
       "    </tr>\n",
       "    <tr>\n",
       "      <th>9</th>\n",
       "      <td>stripe</td>\n",
       "      <td>0.9528</td>\n",
       "      <td>0.8395</td>\n",
       "    </tr>\n",
       "    <tr>\n",
       "      <th>3</th>\n",
       "      <td>line</td>\n",
       "      <td>0.9229</td>\n",
       "      <td>0.8759</td>\n",
       "    </tr>\n",
       "    <tr>\n",
       "      <th>1</th>\n",
       "      <td>zigzag</td>\n",
       "      <td>0.9104</td>\n",
       "      <td>0.8905</td>\n",
       "    </tr>\n",
       "  </tbody>\n",
       "</table>\n",
       "</div>"
      ],
      "text/plain": [
       "  corruption  accuracy_curriculum  accuracy_original\n",
       "4   contrast               0.9256             0.1135\n",
       "9     stripe               0.9528             0.8395\n",
       "3       line               0.9229             0.8759\n",
       "1     zigzag               0.9104             0.8905"
      ]
     },
     "execution_count": 50,
     "metadata": {},
     "output_type": "execute_result"
    }
   ],
   "source": [
    "corruption_results_complete_df = corruption_results_df.merge(filtered_df,\n",
    "                                                             how=\"inner\",\n",
    "                                                             on=\"corruption\",\n",
    "                                                             suffixes=(\"_curriculum\", \"_original\")).sort_values(by=\"accuracy_original\",\n",
    "                                                                                                                ascending=True)\n",
    "corruption_results_complete_df.loc[corruption_results_df[\"corruption\"].isin(list(TIERED_CORRUPTION_POOLS[\"challenging\"].keys()))]"
   ]
  },
  {
   "cell_type": "code",
   "execution_count": 43,
   "id": "4cce54f5",
   "metadata": {},
   "outputs": [
    {
     "data": {
      "image/png": "[encoded data removed]",
      "text/plain": [
       "<Figure size 1200x500 with 1 Axes>"
      ]
     },
     "metadata": {},
     "output_type": "display_data"
    }
   ],
   "source": [
    "# Display boxplot of accuracy by corruption\n",
    "corruption_results_complete_wide_df = corruption_results_complete_df.melt(id_vars=[\"corruption\"],\n",
    "                                                                          value_vars=[\"accuracy_curriculum\", \"accuracy_original\"])\n",
    "\n",
    "plt.figure(figsize=(12, 5))\n",
    "ax = sns.barplot(x=\"corruption\", y=\"value\", hue=\"variable\", data=corruption_results_complete_wide_df)\n",
    "ax.tick_params(axis='x', rotation=90)\n",
    "ax.set_ylabel(\"Accuracy\")\n",
    "ax.set_xlabel(\"Corruption\")\n",
    "ax.set_title(\"Accuracy by Corruption (Baseline Model vs Curriculum Trained)\");"
   ]
  },
  {
   "cell_type": "markdown",
   "id": "5ac68d9f",
   "metadata": {},
   "source": [
    "## 12. Domain Generalization: EMNIST Experiments"
   ]
  },
  {
   "cell_type": "markdown",
   "id": "d0cbf9ce",
   "metadata": {},
   "source": [
    "#### **Preprocessing and Dataset Handling**\n",
    "\n",
    "Before training or evaluation, we applied a consistent set of preprocessing steps:\n",
    "\n",
    "- EMNIST images were filtered to include only the digit subset (0–9).  \n",
    "- Images were normalized and resized to 28×28 grayscale to match MNIST format.  \n",
    "- Labels were remapped to maintain consistent digit encoding.  \n",
    "- Used for zero-shot and fine-tuned generalization testing."
   ]
  },
  {
   "cell_type": "markdown",
   "id": "ced38bd8",
   "metadata": {},
   "source": [
    "### 11.1 Load and Visualize EMNIST Digits"
   ]
  },
  {
   "cell_type": "code",
   "execution_count": 44,
   "id": "1c7f3554",
   "metadata": {},
   "outputs": [],
   "source": [
    "emnist_transform = transforms.Compose([\n",
    "    transforms.ToTensor()\n",
    "])\n",
    "\n",
    "# If this throws an error, run this code block again and it should work\n",
    "emnist_train = EMNIST(root=\"data\", split=\"digits\", train=True, download=True, transform=emnist_transform)\n",
    "emnist_test = EMNIST(root=\"data\", split=\"digits\", train=False, download=True, transform=emnist_transform)"
   ]
  },
  {
   "cell_type": "code",
   "execution_count": 45,
   "id": "ba6b771a",
   "metadata": {},
   "outputs": [],
   "source": [
    "def get_emnist_examples_by_digit(dataset, digits=range(10)):\n",
    "    seen = set()\n",
    "    samples = []\n",
    "\n",
    "    for x, y in dataset:\n",
    "        if int(y) in digits and int(y) not in seen:\n",
    "            seen.add(int(y))\n",
    "            img = TF.to_pil_image(x)\n",
    "            samples.append((img, y))\n",
    "        if len(seen) == len(digits):\n",
    "            break\n",
    "\n",
    "    return samples"
   ]
  },
  {
   "cell_type": "code",
   "execution_count": 46,
   "id": "1dd9ea04",
   "metadata": {},
   "outputs": [
    {
     "data": {
      "image/png": "[encoded data removed]",
      "text/plain": [
       "<Figure size 1500x200 with 10 Axes>"
      ]
     },
     "metadata": {},
     "output_type": "display_data"
    }
   ],
   "source": [
    "digit_samples = get_emnist_examples_by_digit(emnist_train)\n",
    "\n",
    "plt.figure(figsize=(15, 2))\n",
    "for i, (img, label) in enumerate(digit_samples):\n",
    "    plt.subplot(1, 10, i + 1)\n",
    "    plt.imshow(img, cmap=\"gray\")\n",
    "    plt.title(f\"{label}\")\n",
    "    plt.axis(\"off\")\n",
    "\n",
    "plt.suptitle(\"EMNIST Digits: One Example per Class (0–9)\", fontsize=16)\n",
    "plt.tight_layout()\n",
    "plt.show()"
   ]
  },
  {
   "cell_type": "markdown",
   "id": "f7ed1263",
   "metadata": {},
   "source": [
    "### 11.2 Fine-Tune Baseline Model"
   ]
  },
  {
   "cell_type": "markdown",
   "id": "b3270e4e",
   "metadata": {},
   "source": [
    "#### **The Baseline and What It Tells Us**\n",
    "- EMNIST was used for zero-shot domain testing , the model trained only on MNIST and MNIST-C was evaluated without any EMNIST-specific fine-tuning.  \n",
    "- Accuracy dropped to around 20%, even after filtering EMNIST to only include digits.  "
   ]
  },
  {
   "cell_type": "markdown",
   "id": "91d68309",
   "metadata": {},
   "source": [
    "### **What we Analyzed** \n",
    "\n",
    "- This highlighted the difference between robustness to noise vs. different handwriting styles. \n",
    "- This showed that robustness to corruptions does not equal robustness to new handwriting styles.  \n",
    "- Reinforced that domain generalization and corruption generalization are different.  \n",
    "- Performed a brief fine-tuning experiment to see if adaptation to EMNIST was feasible post-training and with a 3 epoch tune it was at 99%"
   ]
  },
  {
   "cell_type": "code",
   "execution_count": 47,
   "id": "d66fa319",
   "metadata": {},
   "outputs": [],
   "source": [
    "def fine_tune_on_emnist(model, emnist_train, emnist_test, epochs=3, lr=1e-4, batch_size=64):\n",
    "    device = torch.device(\"cuda\" if torch.cuda.is_available() else \"cpu\")\n",
    "    model.to(device)\n",
    "    model.train()\n",
    "\n",
    "    optimizer = torch.optim.Adam(model.parameters(), lr=lr)\n",
    "    criterion = nn.CrossEntropyLoss()\n",
    "    train_loader = DataLoader(emnist_train, batch_size=batch_size, shuffle=True)\n",
    "    test_loader = DataLoader(emnist_test, batch_size=batch_size, shuffle=False)\n",
    "\n",
    "    print(f\"\\n Fine-tuning for {epochs} epochs on EMNIST digits...\")\n",
    "\n",
    "    for epoch in range(epochs):\n",
    "        running_loss = 0.0\n",
    "        for x, y in train_loader:\n",
    "            x, y = x.to(device), y.to(device)\n",
    "            optimizer.zero_grad()\n",
    "            output = model(x)\n",
    "            loss = criterion(output, y)\n",
    "            loss.backward()\n",
    "            optimizer.step()\n",
    "            running_loss += loss.item()\n",
    "\n",
    "        print(f\"Epoch {epoch+1}/{epochs} - Loss: {running_loss/len(train_loader):.4f}\")\n",
    "\n",
    "    # === Evaluation ===\n",
    "    model.eval()\n",
    "    all_preds, all_labels = [], []\n",
    "\n",
    "    with torch.no_grad():\n",
    "        for x, y in test_loader:\n",
    "            x, y = x.to(device), y.to(device)\n",
    "            output = model(x)\n",
    "            preds = output.argmax(dim=1)\n",
    "            all_preds.append(preds.cpu())\n",
    "            all_labels.append(y.cpu())\n",
    "\n",
    "    all_preds = torch.cat(all_preds)\n",
    "    all_labels = torch.cat(all_labels)\n",
    "\n",
    "    # Per-digit accuracy\n",
    "    digit_accs = []\n",
    "    for i in range(10):\n",
    "        mask = (all_labels == i)\n",
    "        acc = (all_preds[mask] == i).float().mean().item()\n",
    "        digit_accs.append(acc)\n",
    "\n",
    "    df = pd.DataFrame({\n",
    "        \"Digit\": list(range(10)) + [\"Overall\"],\n",
    "        \"Accuracy\": digit_accs + [accuracy_score(all_labels, all_preds)]\n",
    "    })\n",
    "\n",
    "    print(\"\\n📊 Accuracy after Fine-Tuning:\")\n",
    "    display(df.round(4))\n",
    "\n",
    "    # Optional: Confusion matrix\n",
    "    cm = confusion_matrix(all_labels, all_preds)\n",
    "    plt.figure(figsize=(8, 6))\n",
    "    sns.heatmap(cm, annot=True, fmt=\"d\", cmap=\"Blues\")\n",
    "    plt.title(\"Confusion Matrix – EMNIST After Fine-Tuning\")\n",
    "    plt.xlabel(\"Predicted\")\n",
    "    plt.ylabel(\"True\")\n",
    "    plt.show()\n",
    "\n",
    "    return model,df"
   ]
  },
  {
   "cell_type": "code",
   "execution_count": 49,
   "id": "9bdcdc18",
   "metadata": {},
   "outputs": [
    {
     "name": "stdout",
     "output_type": "stream",
     "text": [
      "\n",
      " Fine-tuning for 3 epochs on EMNIST digits...\n",
      "Epoch 1/3 - Loss: 0.2890\n",
      "Epoch 2/3 - Loss: 0.0510\n",
      "Epoch 3/3 - Loss: 0.0364\n",
      "\n",
      "📊 Accuracy after Fine-Tuning:\n"
     ]
    },
    {
     "data": {
      "application/vnd.microsoft.datawrangler.viewer.v0+json": {
       "columns": [
        {
         "name": "index",
         "rawType": "int64",
         "type": "integer"
        },
        {
         "name": "Digit",
         "rawType": "object",
         "type": "unknown"
        },
        {
         "name": "Accuracy",
         "rawType": "float64",
         "type": "float"
        }
       ],
       "conversionMethod": "pd.DataFrame",
       "ref": "bac6b638-3c4d-4890-9b8c-da5ec3f7e800",
       "rows": [
        [
         "0",
         "0",
         "0.996"
        ],
        [
         "1",
         "1",
         "0.997"
        ],
        [
         "2",
         "2",
         "0.9945"
        ],
        [
         "3",
         "3",
         "0.9925"
        ],
        [
         "4",
         "4",
         "0.9912"
        ],
        [
         "5",
         "5",
         "0.9933"
        ],
        [
         "6",
         "6",
         "0.9958"
        ],
        [
         "7",
         "7",
         "0.996"
        ],
        [
         "8",
         "8",
         "0.994"
        ],
        [
         "9",
         "9",
         "0.996"
        ],
        [
         "10",
         "Overall",
         "0.9946"
        ]
       ],
       "shape": {
        "columns": 2,
        "rows": 11
       }
      },
      "text/html": [
       "<div>\n",
       "<style scoped>\n",
       "    .dataframe tbody tr th:only-of-type {\n",
       "        vertical-align: middle;\n",
       "    }\n",
       "\n",
       "    .dataframe tbody tr th {\n",
       "        vertical-align: top;\n",
       "    }\n",
       "\n",
       "    .dataframe thead th {\n",
       "        text-align: right;\n",
       "    }\n",
       "</style>\n",
       "<table border=\"1\" class=\"dataframe\">\n",
       "  <thead>\n",
       "    <tr style=\"text-align: right;\">\n",
       "      <th></th>\n",
       "      <th>Digit</th>\n",
       "      <th>Accuracy</th>\n",
       "    </tr>\n",
       "  </thead>\n",
       "  <tbody>\n",
       "    <tr>\n",
       "      <th>0</th>\n",
       "      <td>0</td>\n",
       "      <td>0.9960</td>\n",
       "    </tr>\n",
       "    <tr>\n",
       "      <th>1</th>\n",
       "      <td>1</td>\n",
       "      <td>0.9970</td>\n",
       "    </tr>\n",
       "    <tr>\n",
       "      <th>2</th>\n",
       "      <td>2</td>\n",
       "      <td>0.9945</td>\n",
       "    </tr>\n",
       "    <tr>\n",
       "      <th>3</th>\n",
       "      <td>3</td>\n",
       "      <td>0.9925</td>\n",
       "    </tr>\n",
       "    <tr>\n",
       "      <th>4</th>\n",
       "      <td>4</td>\n",
       "      <td>0.9912</td>\n",
       "    </tr>\n",
       "    <tr>\n",
       "      <th>5</th>\n",
       "      <td>5</td>\n",
       "      <td>0.9933</td>\n",
       "    </tr>\n",
       "    <tr>\n",
       "      <th>6</th>\n",
       "      <td>6</td>\n",
       "      <td>0.9958</td>\n",
       "    </tr>\n",
       "    <tr>\n",
       "      <th>7</th>\n",
       "      <td>7</td>\n",
       "      <td>0.9960</td>\n",
       "    </tr>\n",
       "    <tr>\n",
       "      <th>8</th>\n",
       "      <td>8</td>\n",
       "      <td>0.9940</td>\n",
       "    </tr>\n",
       "    <tr>\n",
       "      <th>9</th>\n",
       "      <td>9</td>\n",
       "      <td>0.9960</td>\n",
       "    </tr>\n",
       "    <tr>\n",
       "      <th>10</th>\n",
       "      <td>Overall</td>\n",
       "      <td>0.9946</td>\n",
       "    </tr>\n",
       "  </tbody>\n",
       "</table>\n",
       "</div>"
      ],
      "text/plain": [
       "      Digit  Accuracy\n",
       "0         0    0.9960\n",
       "1         1    0.9970\n",
       "2         2    0.9945\n",
       "3         3    0.9925\n",
       "4         4    0.9912\n",
       "5         5    0.9933\n",
       "6         6    0.9958\n",
       "7         7    0.9960\n",
       "8         8    0.9940\n",
       "9         9    0.9960\n",
       "10  Overall    0.9946"
      ]
     },
     "metadata": {},
     "output_type": "display_data"
    },
    {
     "data": {
      "image/png": "[encoded data removed]",
      "text/plain": [
       "<Figure size 800x600 with 2 Axes>"
      ]
     },
     "metadata": {},
     "output_type": "display_data"
    }
   ],
   "source": [
    "emnist_model, df_emnist = fine_tune_on_emnist(\n",
    "    model=model,\n",
    "    emnist_train=emnist_train,\n",
    "    emnist_test=emnist_test,\n",
    "    epochs=3,           \n",
    "    lr=1e-4,\n",
    "    batch_size=64\n",
    ")"
   ]
  },
  {
   "cell_type": "markdown",
   "id": "79f5b16c",
   "metadata": {},
   "source": [
    "### **Analysis of What Worked**\n",
    "Grouping corruptions into tiers and introducing them gradually avoided overwhelming the model and led to faster convergence. Mixup and label smoothing were especially helpful during the later stages of training, when overfitting was more likely.\n",
    "Although we reached a performance plateau around epoch 6, we extended training to 15 epochs, which allowed the model to adapt to harder corruptions. The result was a more robust model, though still one that needed fine-tuning for domain transfer.\n"
   ]
  }
 ],
 "metadata": {
  "kernelspec": {
   "display_name": "Python 3",
   "language": "python",
   "name": "python3"
  },
  "language_info": {
   "codemirror_mode": {
    "name": "ipython",
    "version": 3
   },
   "file_extension": ".py",
   "mimetype": "text/x-python",
   "name": "python",
   "nbconvert_exporter": "python",
   "pygments_lexer": "ipython3",
   "version": "3.12.3"
  }
 },
 "nbformat": 4,
 "nbformat_minor": 5
}
